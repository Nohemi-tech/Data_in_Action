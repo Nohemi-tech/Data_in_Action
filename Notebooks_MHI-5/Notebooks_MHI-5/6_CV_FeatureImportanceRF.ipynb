{
 "cells": [
  {
   "cell_type": "code",
   "execution_count": 3,
   "id": "c9345420-776c-4615-a5aa-e662c4bfcc45",
   "metadata": {},
   "outputs": [],
   "source": [
    "import pandas as pd\n",
    "# Define the target variable\n",
    "target_column = ['mhi5_class_2022']\n",
    "\n",
    "# Load dataset\n",
    "df = pd.read_csv(\"selected_features_rf.csv\")  \n",
    "\n",
    "# Separate features and target\n",
    "X = df  \n",
    "y = target_column  "
   ]
  },
  {
   "cell_type": "code",
   "execution_count": null,
   "id": "915a613e-5969-4afa-8978-48f42683ba77",
   "metadata": {},
   "outputs": [],
   "source": []
  }
 ],
 "metadata": {
  "kernelspec": {
   "display_name": "Python 3 (ipykernel)",
   "language": "python",
   "name": "python3"
  },
  "language_info": {
   "codemirror_mode": {
    "name": "ipython",
    "version": 3
   },
   "file_extension": ".py",
   "mimetype": "text/x-python",
   "name": "python",
   "nbconvert_exporter": "python",
   "pygments_lexer": "ipython3",
   "version": "3.12.4"
  }
 },
 "nbformat": 4,
 "nbformat_minor": 5
}
