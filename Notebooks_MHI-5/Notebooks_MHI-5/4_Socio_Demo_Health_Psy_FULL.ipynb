{
 "cells": [
  {
   "cell_type": "code",
   "execution_count": null,
   "id": "84a787a0-88aa-416d-bc6c-0aa53617e400",
   "metadata": {},
   "outputs": [],
   "source": [
    "import pandas as pd\n",
    "\n",
    "# Define the target variable\n",
    "target_column = ['mhi5_class_2022']\n",
    "\n",
    "# Columns that are inside blocks but MAY only be needed for error analysis\n",
    "possible_error_analysis_columns = ['gender', 'Religion', 'Religious_Membership', 'political_interest']\n",
    "\n",
    "# Full list of extra columns\n",
    "keep_columns = target_column + possible_error_analysis_columns  # ✅ Make sure to define this!\n",
    "\n",
    "# Load dataset\n",
    "df = pd.read_csv(\"socio_demo_health_psychology.csv\")\n",
    "# Separate features and target\n",
    "X = df.drop(columns=keep_columns)  # Drop target + uncertain columns for training\n",
    "y = df[target_column[0]]  # Target variable"
   ]
  }
 ],
 "metadata": {
  "kernelspec": {
   "display_name": "Python 3 (ipykernel)",
   "language": "python",
   "name": "python3"
  },
  "language_info": {
   "codemirror_mode": {
    "name": "ipython",
    "version": 3
   },
   "file_extension": ".py",
   "mimetype": "text/x-python",
   "name": "python",
   "nbconvert_exporter": "python",
   "pygments_lexer": "ipython3",
   "version": "3.12.4"
  }
 },
 "nbformat": 4,
 "nbformat_minor": 5
}
