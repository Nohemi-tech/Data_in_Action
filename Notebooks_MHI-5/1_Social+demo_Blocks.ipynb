{
 "cells": [
  {
   "cell_type": "code",
   "execution_count": 1,
   "id": "d6a54221-7614-426f-ae15-a371424a8459",
   "metadata": {},
   "outputs": [],
   "source": [
    "import optuna"
   ]
  },
  {
   "cell_type": "code",
   "execution_count": 1,
   "id": "23461b8c-946e-40d3-83a5-da82a8c2099e",
   "metadata": {},
   "outputs": [
    {
     "name": "stdout",
     "output_type": "stream",
     "text": [
      "0.13.0\n"
     ]
    }
   ],
   "source": [
    "import imblearn\n",
    "print(imblearn.__version__)"
   ]
  },
  {
   "cell_type": "code",
   "execution_count": 2,
   "id": "c26d3dbf-3706-4e2c-8fd5-7d18427518f6",
   "metadata": {},
   "outputs": [
    {
     "name": "stdout",
     "output_type": "stream",
     "text": [
      "Smotetomek succesfully imported\n"
     ]
    }
   ],
   "source": [
    "from imblearn.combine import SMOTETomek\n",
    "print(\"Smotetomek succesfully imported\") "
   ]
  },
  {
   "cell_type": "code",
   "execution_count": 3,
   "id": "231b4003-f8db-4582-b5bb-22ea8ff99dc0",
   "metadata": {},
   "outputs": [
    {
     "data": {
      "text/html": [
       "<div>\n",
       "<style scoped>\n",
       "    .dataframe tbody tr th:only-of-type {\n",
       "        vertical-align: middle;\n",
       "    }\n",
       "\n",
       "    .dataframe tbody tr th {\n",
       "        vertical-align: top;\n",
       "    }\n",
       "\n",
       "    .dataframe thead th {\n",
       "        text-align: right;\n",
       "    }\n",
       "</style>\n",
       "<table border=\"1\" class=\"dataframe\">\n",
       "  <thead>\n",
       "    <tr style=\"text-align: right;\">\n",
       "      <th></th>\n",
       "      <th>age</th>\n",
       "      <th>gender</th>\n",
       "      <th>sex</th>\n",
       "      <th>education</th>\n",
       "      <th>Employment_status</th>\n",
       "      <th>Personal_Net_Income_Category</th>\n",
       "      <th>Ethnic_Background</th>\n",
       "      <th>living_arrangement</th>\n",
       "      <th>marital_status</th>\n",
       "      <th>hours_on_social_media</th>\n",
       "      <th>loneliness_score</th>\n",
       "      <th>social_media_frequency</th>\n",
       "      <th>mhi5_class_2022</th>\n",
       "      <th>gender.1</th>\n",
       "      <th>Religion</th>\n",
       "      <th>Religious_Membership</th>\n",
       "      <th>political_interest</th>\n",
       "      <th>mhi5_std_score_2022</th>\n",
       "    </tr>\n",
       "  </thead>\n",
       "  <tbody>\n",
       "    <tr>\n",
       "      <th>0</th>\n",
       "      <td>60.0</td>\n",
       "      <td>999</td>\n",
       "      <td>1.0</td>\n",
       "      <td>6.0</td>\n",
       "      <td>1</td>\n",
       "      <td>7.0</td>\n",
       "      <td>2.0</td>\n",
       "      <td>3.0</td>\n",
       "      <td>1.0</td>\n",
       "      <td>2.0</td>\n",
       "      <td>0</td>\n",
       "      <td>1.0</td>\n",
       "      <td>0.0</td>\n",
       "      <td>999</td>\n",
       "      <td>NaN</td>\n",
       "      <td>2.0</td>\n",
       "      <td>1.0</td>\n",
       "      <td>84.0</td>\n",
       "    </tr>\n",
       "    <tr>\n",
       "      <th>1</th>\n",
       "      <td>32.0</td>\n",
       "      <td>999</td>\n",
       "      <td>2.0</td>\n",
       "      <td>4.0</td>\n",
       "      <td>1</td>\n",
       "      <td>4.0</td>\n",
       "      <td>2.0</td>\n",
       "      <td>3.0</td>\n",
       "      <td>1.0</td>\n",
       "      <td>18.0</td>\n",
       "      <td>0</td>\n",
       "      <td>3.0</td>\n",
       "      <td>1.0</td>\n",
       "      <td>999</td>\n",
       "      <td>10.0</td>\n",
       "      <td>1.0</td>\n",
       "      <td>2.0</td>\n",
       "      <td>52.0</td>\n",
       "    </tr>\n",
       "    <tr>\n",
       "      <th>2</th>\n",
       "      <td>49.0</td>\n",
       "      <td>999</td>\n",
       "      <td>1.0</td>\n",
       "      <td>4.0</td>\n",
       "      <td>1</td>\n",
       "      <td>4.0</td>\n",
       "      <td>1.0</td>\n",
       "      <td>2.0</td>\n",
       "      <td>1.0</td>\n",
       "      <td>17.0</td>\n",
       "      <td>0</td>\n",
       "      <td>6.0</td>\n",
       "      <td>0.0</td>\n",
       "      <td>999</td>\n",
       "      <td>NaN</td>\n",
       "      <td>2.0</td>\n",
       "      <td>2.0</td>\n",
       "      <td>64.0</td>\n",
       "    </tr>\n",
       "    <tr>\n",
       "      <th>3</th>\n",
       "      <td>70.0</td>\n",
       "      <td>999</td>\n",
       "      <td>1.0</td>\n",
       "      <td>6.0</td>\n",
       "      <td>9</td>\n",
       "      <td>6.0</td>\n",
       "      <td>1.0</td>\n",
       "      <td>2.0</td>\n",
       "      <td>1.0</td>\n",
       "      <td>0.0</td>\n",
       "      <td>0</td>\n",
       "      <td>5.0</td>\n",
       "      <td>0.0</td>\n",
       "      <td>999</td>\n",
       "      <td>NaN</td>\n",
       "      <td>2.0</td>\n",
       "      <td>1.0</td>\n",
       "      <td>76.0</td>\n",
       "    </tr>\n",
       "    <tr>\n",
       "      <th>4</th>\n",
       "      <td>60.0</td>\n",
       "      <td>999</td>\n",
       "      <td>1.0</td>\n",
       "      <td>4.0</td>\n",
       "      <td>4</td>\n",
       "      <td>5.0</td>\n",
       "      <td>1.0</td>\n",
       "      <td>3.0</td>\n",
       "      <td>1.0</td>\n",
       "      <td>6.0</td>\n",
       "      <td>0</td>\n",
       "      <td>7.0</td>\n",
       "      <td>0.0</td>\n",
       "      <td>999</td>\n",
       "      <td>NaN</td>\n",
       "      <td>2.0</td>\n",
       "      <td>1.0</td>\n",
       "      <td>88.0</td>\n",
       "    </tr>\n",
       "  </tbody>\n",
       "</table>\n",
       "</div>"
      ],
      "text/plain": [
       "    age  gender  sex  education  Employment_status  \\\n",
       "0  60.0     999  1.0        6.0                  1   \n",
       "1  32.0     999  2.0        4.0                  1   \n",
       "2  49.0     999  1.0        4.0                  1   \n",
       "3  70.0     999  1.0        6.0                  9   \n",
       "4  60.0     999  1.0        4.0                  4   \n",
       "\n",
       "   Personal_Net_Income_Category  Ethnic_Background  living_arrangement  \\\n",
       "0                           7.0                2.0                 3.0   \n",
       "1                           4.0                2.0                 3.0   \n",
       "2                           4.0                1.0                 2.0   \n",
       "3                           6.0                1.0                 2.0   \n",
       "4                           5.0                1.0                 3.0   \n",
       "\n",
       "   marital_status  hours_on_social_media  loneliness_score  \\\n",
       "0             1.0                    2.0                 0   \n",
       "1             1.0                   18.0                 0   \n",
       "2             1.0                   17.0                 0   \n",
       "3             1.0                    0.0                 0   \n",
       "4             1.0                    6.0                 0   \n",
       "\n",
       "   social_media_frequency  mhi5_class_2022  gender.1  Religion  \\\n",
       "0                     1.0              0.0       999       NaN   \n",
       "1                     3.0              1.0       999      10.0   \n",
       "2                     6.0              0.0       999       NaN   \n",
       "3                     5.0              0.0       999       NaN   \n",
       "4                     7.0              0.0       999       NaN   \n",
       "\n",
       "   Religious_Membership  political_interest  mhi5_std_score_2022  \n",
       "0                   2.0                 1.0                 84.0  \n",
       "1                   1.0                 2.0                 52.0  \n",
       "2                   2.0                 2.0                 64.0  \n",
       "3                   2.0                 1.0                 76.0  \n",
       "4                   2.0                 1.0                 88.0  "
      ]
     },
     "execution_count": 3,
     "metadata": {},
     "output_type": "execute_result"
    }
   ],
   "source": [
    "import pandas as pd\n",
    "df=pd.read_csv(\"social_demographic.csv\")\n",
    "df.head()"
   ]
  },
  {
   "cell_type": "code",
   "execution_count": null,
   "id": "68eaf0a1-2818-42d9-990a-e02059a2cd7d",
   "metadata": {},
   "outputs": [],
   "source": []
  },
  {
   "cell_type": "code",
   "execution_count": 8,
   "id": "bd685aa1-a75f-482e-8458-5f0f1a534d7d",
   "metadata": {},
   "outputs": [],
   "source": [
    "import pandas as pd\n",
    "\n",
    "# Define the target variable\n",
    "target_column = ['mhi5_class_2022']\n",
    "\n",
    "# Columns that are inside blocks but MAY only be needed for error analysis\n",
    "possible_error_analysis_columns = ['gender', 'Religion', 'Religious_Membership', 'political_interest','mhi5_std_score_2022', 'gender.1', 'Ethnic_Background', 'social_media_frequency' ]\n",
    "\n",
    "# Full list of extra columns\n",
    "keep_columns = target_column + possible_error_analysis_columns \n",
    "\n",
    "\n",
    "\n",
    "\n",
    "# Separate features and target\n",
    "X = df.drop(columns=keep_columns) \n",
    "y = df[target_column[0]]  # Target variable\n",
    "\n"
   ]
  },
  {
   "cell_type": "code",
   "execution_count": 10,
   "id": "8e67ef68-679e-4ee9-afe1-7e3d19deead1",
   "metadata": {},
   "outputs": [],
   "source": [
    "X= X.reset_index(drop=True)\n",
    "y= y.reset_index(drop=True)"
   ]
  },
  {
   "cell_type": "code",
   "execution_count": 12,
   "id": "8d3c0313-0481-42a8-8913-cd0f38c34c56",
   "metadata": {},
   "outputs": [
    {
     "name": "stdout",
     "output_type": "stream",
     "text": [
      "(995, 9)\n",
      "(995,)\n"
     ]
    }
   ],
   "source": [
    "print(X.shape)\n",
    "print(y.shape)"
   ]
  },
  {
   "cell_type": "code",
   "execution_count": 14,
   "id": "abc750fe-ca45-4cac-a832-0599260374dc",
   "metadata": {},
   "outputs": [
    {
     "name": "stdout",
     "output_type": "stream",
     "text": [
      "age                             0\n",
      "sex                             0\n",
      "education                       2\n",
      "Employment_status               0\n",
      "Personal_Net_Income_Category    2\n",
      "living_arrangement              0\n",
      "marital_status                  0\n",
      "hours_on_social_media           0\n",
      "loneliness_score                0\n",
      "dtype: int64\n"
     ]
    }
   ],
   "source": [
    "print(X.isna().sum()) \n",
    "# the classidfer cannot work if some entries have NAN"
   ]
  },
  {
   "cell_type": "code",
   "execution_count": 16,
   "id": "64c5c6b9-637d-4d1d-9674-e9da354c0c1b",
   "metadata": {},
   "outputs": [],
   "source": [
    "X.loc[:, \"education\"] = X[\"education\"].fillna(X[\"education\"].mean())\n",
    "X.loc[:, \"Personal_Net_Income_Category\"] = X[\"Personal_Net_Income_Category\"].fillna(X[\"Personal_Net_Income_Category\"].mean())"
   ]
  },
  {
   "cell_type": "code",
   "execution_count": 18,
   "id": "896aa3bf-d3be-4cd2-806f-5a5e745946f4",
   "metadata": {},
   "outputs": [
    {
     "name": "stdout",
     "output_type": "stream",
     "text": [
      "age                             0\n",
      "sex                             0\n",
      "education                       0\n",
      "Employment_status               0\n",
      "Personal_Net_Income_Category    0\n",
      "living_arrangement              0\n",
      "marital_status                  0\n",
      "hours_on_social_media           0\n",
      "loneliness_score                0\n",
      "dtype: int64\n"
     ]
    }
   ],
   "source": [
    "print(X.isna().sum())  # check for nan"
   ]
  },
  {
   "cell_type": "code",
   "execution_count": 20,
   "id": "b219d671-6220-4b0f-a085-e41024b8d19a",
   "metadata": {},
   "outputs": [
    {
     "name": "stdout",
     "output_type": "stream",
     "text": [
      "1\n",
      "float64\n"
     ]
    }
   ],
   "source": [
    "print(y.isna().sum())\n",
    "print(y.dtype)"
   ]
  },
  {
   "cell_type": "code",
   "execution_count": 22,
   "id": "136770e2-a51d-48e0-8f2d-a0fdd3104dc9",
   "metadata": {},
   "outputs": [
    {
     "name": "stdout",
     "output_type": "stream",
     "text": [
      "0\n"
     ]
    }
   ],
   "source": [
    "\n",
    "y.dropna(inplace=True)  #drop the entry with nan\n",
    "X = X.loc[y.index]    # keep X and y aligned\n",
    "print(y.isna().sum())"
   ]
  },
  {
   "cell_type": "markdown",
   "id": "bc6f109c-f0b9-49c5-9b01-da0ce0211c8f",
   "metadata": {},
   "source": [
    "Nested CROSS-Validation"
   ]
  },
  {
   "cell_type": "code",
   "execution_count": 25,
   "id": "700b67ba-32bd-4491-80cf-1cc67e496da4",
   "metadata": {},
   "outputs": [],
   "source": [
    "from imblearn.combine import SMOTETomek\n",
    "from imblearn.under_sampling import RandomUnderSampler\n",
    "from sklearn.model_selection import StratifiedKFold\n",
    "\n",
    "# Sampler dictionary\n",
    "samplers = {\n",
    "    'none': None,\n",
    "    'undersample': RandomUnderSampler(random_state=42),\n",
    "    'smotetomek': SMOTETomek(random_state=42)\n",
    "}\n",
    "\n",
    "# Outer CV (voor consistentie)\n",
    "outer_cv = StratifiedKFold(n_splits=5, shuffle=True, random_state=42)\n"
   ]
  },
  {
   "cell_type": "code",
   "execution_count": 27,
   "id": "5535cee7-a5fc-439c-afda-5df71a70e0b3",
   "metadata": {},
   "outputs": [
    {
     "ename": "NameError",
     "evalue": "name 'X_train' is not defined",
     "output_type": "error",
     "traceback": [
      "\u001b[1;31m---------------------------------------------------------------------------\u001b[0m",
      "\u001b[1;31mNameError\u001b[0m                                 Traceback (most recent call last)",
      "Cell \u001b[1;32mIn[27], line 22\u001b[0m\n\u001b[0;32m     20\u001b[0m \u001b[38;5;66;03m# GridSearch\u001b[39;00m\n\u001b[0;32m     21\u001b[0m grid_lr \u001b[38;5;241m=\u001b[39m GridSearchCV(pipeline_lr, param_grid\u001b[38;5;241m=\u001b[39mparam_grid_lr, cv\u001b[38;5;241m=\u001b[39m\u001b[38;5;241m3\u001b[39m, scoring\u001b[38;5;241m=\u001b[39m\u001b[38;5;124m'\u001b[39m\u001b[38;5;124mf1\u001b[39m\u001b[38;5;124m'\u001b[39m, n_jobs\u001b[38;5;241m=\u001b[39m\u001b[38;5;241m-\u001b[39m\u001b[38;5;241m1\u001b[39m)\n\u001b[1;32m---> 22\u001b[0m grid_lr\u001b[38;5;241m.\u001b[39mfit(X_train, y_train)\n\u001b[0;32m     24\u001b[0m \u001b[38;5;66;03m# Evaluatie\u001b[39;00m\n\u001b[0;32m     25\u001b[0m \u001b[38;5;28mprint\u001b[39m(\u001b[38;5;124m\"\u001b[39m\u001b[38;5;124mBest parameters (LogReg):\u001b[39m\u001b[38;5;124m\"\u001b[39m, grid_lr\u001b[38;5;241m.\u001b[39mbest_params_)\n",
      "\u001b[1;31mNameError\u001b[0m: name 'X_train' is not defined"
     ]
    }
   ],
   "source": [
    "from sklearn.linear_model import LogisticRegression\n",
    "from sklearn.preprocessing import StandardScaler\n",
    "from imblearn.pipeline import Pipeline as ImbPipeline\n",
    "from sklearn.model_selection import GridSearchCV\n",
    "from sklearn.metrics import classification_report\n",
    "\n",
    "# Hyperparameter grid\n",
    "param_grid_lr = {\n",
    "    'sampler': [samplers['none'], samplers['undersample'], samplers['smotetomek']],\n",
    "    'classifier__C': [0.01, 0.1, 1, 10]\n",
    "}\n",
    "\n",
    "# Pipeline\n",
    "pipeline_lr = ImbPipeline([\n",
    "    ('sampler', SMOTETomek()),  # wordt geswitched op basis van de param_grid_lr\n",
    "    ('scaler', StandardScaler()), # hier doen na datasplit anders dataleakage niet bij preprocessing.\n",
    "    ('classifier', LogisticRegression(max_iter=1000, random_state=42))\n",
    "])\n",
    "\n",
    "# GridSearch\n",
    "grid_lr = GridSearchCV(pipeline_lr, param_grid=param_grid_lr, cv=3, scoring='f1', n_jobs=-1) # cv gaat automatisch stratifiedsplit\n",
    "grid_lr.fit(X_train, y_train) # trainen van je gridsearch, hier ben je alleen de inner loop van de nested cv.\n",
    "# om te checken of de \n",
    "# Evaluatie\n",
    "print(\"Best parameters (LogReg):\", grid_lr.best_params_)\n",
    "y_pred = grid_lr.predict(X_test)\n",
    "print(classification_report(y_test, y_pred))\n"
   ]
  },
  {
   "cell_type": "code",
   "execution_count": null,
   "id": "40a88357-d897-439c-bd16-6d21fc3ffa06",
   "metadata": {},
   "outputs": [],
   "source": []
  }
 ],
 "metadata": {
  "kernelspec": {
   "display_name": "Python 3 (ipykernel)",
   "language": "python",
   "name": "python3"
  },
  "language_info": {
   "codemirror_mode": {
    "name": "ipython",
    "version": 3
   },
   "file_extension": ".py",
   "mimetype": "text/x-python",
   "name": "python",
   "nbconvert_exporter": "python",
   "pygments_lexer": "ipython3",
   "version": "3.12.4"
  }
 },
 "nbformat": 4,
 "nbformat_minor": 5
}
