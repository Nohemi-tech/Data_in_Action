{
 "cells": [
  {
   "cell_type": "code",
   "execution_count": 32,
   "id": "44868296-7fe8-4e4b-8ae2-4342f624fd59",
   "metadata": {},
   "outputs": [
    {
     "name": "stdout",
     "output_type": "stream",
     "text": [
      "Collecting optuna-integration[sklearn]\n",
      "  Downloading optuna_integration-4.3.0-py3-none-any.whl.metadata (12 kB)\n",
      "Requirement already satisfied: optuna in c:\\users\\u1246538\\appdata\\local\\anaconda3\\lib\\site-packages (from optuna-integration[sklearn]) (4.2.1)\n",
      "Requirement already satisfied: pandas in c:\\users\\u1246538\\appdata\\local\\anaconda3\\lib\\site-packages (from optuna-integration[sklearn]) (2.2.2)\n",
      "Requirement already satisfied: scikit-learn in c:\\users\\u1246538\\appdata\\local\\anaconda3\\lib\\site-packages (from optuna-integration[sklearn]) (1.5.2)\n",
      "Requirement already satisfied: scipy in c:\\users\\u1246538\\appdata\\local\\anaconda3\\lib\\site-packages (from optuna-integration[sklearn]) (1.13.1)\n",
      "Requirement already satisfied: alembic>=1.5.0 in c:\\users\\u1246538\\appdata\\local\\anaconda3\\lib\\site-packages (from optuna->optuna-integration[sklearn]) (1.14.1)\n",
      "Requirement already satisfied: colorlog in c:\\users\\u1246538\\appdata\\local\\anaconda3\\lib\\site-packages (from optuna->optuna-integration[sklearn]) (6.9.0)\n",
      "Requirement already satisfied: numpy in c:\\users\\u1246538\\appdata\\local\\anaconda3\\lib\\site-packages (from optuna->optuna-integration[sklearn]) (1.26.4)\n",
      "Requirement already satisfied: packaging>=20.0 in c:\\users\\u1246538\\appdata\\local\\anaconda3\\lib\\site-packages (from optuna->optuna-integration[sklearn]) (23.2)\n",
      "Requirement already satisfied: sqlalchemy>=1.4.2 in c:\\users\\u1246538\\appdata\\local\\anaconda3\\lib\\site-packages (from optuna->optuna-integration[sklearn]) (2.0.30)\n",
      "Requirement already satisfied: tqdm in c:\\users\\u1246538\\appdata\\local\\anaconda3\\lib\\site-packages (from optuna->optuna-integration[sklearn]) (4.66.4)\n",
      "Requirement already satisfied: PyYAML in c:\\users\\u1246538\\appdata\\local\\anaconda3\\lib\\site-packages (from optuna->optuna-integration[sklearn]) (6.0.1)\n",
      "Requirement already satisfied: python-dateutil>=2.8.2 in c:\\users\\u1246538\\appdata\\local\\anaconda3\\lib\\site-packages (from pandas->optuna-integration[sklearn]) (2.9.0.post0)\n",
      "Requirement already satisfied: pytz>=2020.1 in c:\\users\\u1246538\\appdata\\local\\anaconda3\\lib\\site-packages (from pandas->optuna-integration[sklearn]) (2024.1)\n",
      "Requirement already satisfied: tzdata>=2022.7 in c:\\users\\u1246538\\appdata\\local\\anaconda3\\lib\\site-packages (from pandas->optuna-integration[sklearn]) (2023.3)\n",
      "Requirement already satisfied: joblib>=1.2.0 in c:\\users\\u1246538\\appdata\\local\\anaconda3\\lib\\site-packages (from scikit-learn->optuna-integration[sklearn]) (1.4.2)\n",
      "Requirement already satisfied: threadpoolctl>=3.1.0 in c:\\users\\u1246538\\appdata\\local\\anaconda3\\lib\\site-packages (from scikit-learn->optuna-integration[sklearn]) (3.5.0)\n",
      "Requirement already satisfied: Mako in c:\\users\\u1246538\\appdata\\local\\anaconda3\\lib\\site-packages (from alembic>=1.5.0->optuna->optuna-integration[sklearn]) (1.3.9)\n",
      "Requirement already satisfied: typing-extensions>=4 in c:\\users\\u1246538\\appdata\\local\\anaconda3\\lib\\site-packages (from alembic>=1.5.0->optuna->optuna-integration[sklearn]) (4.11.0)\n",
      "Requirement already satisfied: six>=1.5 in c:\\users\\u1246538\\appdata\\local\\anaconda3\\lib\\site-packages (from python-dateutil>=2.8.2->pandas->optuna-integration[sklearn]) (1.16.0)\n",
      "Requirement already satisfied: greenlet!=0.4.17 in c:\\users\\u1246538\\appdata\\local\\anaconda3\\lib\\site-packages (from sqlalchemy>=1.4.2->optuna->optuna-integration[sklearn]) (3.0.1)\n",
      "Requirement already satisfied: colorama in c:\\users\\u1246538\\appdata\\local\\anaconda3\\lib\\site-packages (from colorlog->optuna->optuna-integration[sklearn]) (0.4.6)\n",
      "Requirement already satisfied: MarkupSafe>=0.9.2 in c:\\users\\u1246538\\appdata\\local\\anaconda3\\lib\\site-packages (from Mako->alembic>=1.5.0->optuna->optuna-integration[sklearn]) (2.1.3)\n",
      "Downloading optuna_integration-4.3.0-py3-none-any.whl (98 kB)\n",
      "   ---------------------------------------- 0.0/98.5 kB ? eta -:--:--\n",
      "   ---------------- ----------------------- 41.0/98.5 kB 960.0 kB/s eta 0:00:01\n",
      "   ---------------------------------------- 98.5/98.5 kB 1.9 MB/s eta 0:00:00\n",
      "Installing collected packages: optuna-integration\n",
      "Successfully installed optuna-integration-4.3.0\n",
      "Note: you may need to restart the kernel to use updated packages.\n"
     ]
    }
   ],
   "source": [
    "pip install optuna-integration[sklearn]"
   ]
  },
  {
   "cell_type": "code",
   "execution_count": 1,
   "id": "23461b8c-946e-40d3-83a5-da82a8c2099e",
   "metadata": {},
   "outputs": [
    {
     "name": "stdout",
     "output_type": "stream",
     "text": [
      "0.13.0\n"
     ]
    }
   ],
   "source": [
    "import imblearn\n",
    "print(imblearn.__version__)"
   ]
  },
  {
   "cell_type": "code",
   "execution_count": 2,
   "id": "c26d3dbf-3706-4e2c-8fd5-7d18427518f6",
   "metadata": {},
   "outputs": [
    {
     "name": "stdout",
     "output_type": "stream",
     "text": [
      "Smotetomek succesfully imported\n"
     ]
    }
   ],
   "source": [
    "from imblearn.combine import SMOTETomek\n",
    "print(\"Smotetomek succesfully imported\") "
   ]
  },
  {
   "cell_type": "code",
   "execution_count": 5,
   "id": "231b4003-f8db-4582-b5bb-22ea8ff99dc0",
   "metadata": {},
   "outputs": [
    {
     "data": {
      "text/html": [
       "<div>\n",
       "<style scoped>\n",
       "    .dataframe tbody tr th:only-of-type {\n",
       "        vertical-align: middle;\n",
       "    }\n",
       "\n",
       "    .dataframe tbody tr th {\n",
       "        vertical-align: top;\n",
       "    }\n",
       "\n",
       "    .dataframe thead th {\n",
       "        text-align: right;\n",
       "    }\n",
       "</style>\n",
       "<table border=\"1\" class=\"dataframe\">\n",
       "  <thead>\n",
       "    <tr style=\"text-align: right;\">\n",
       "      <th></th>\n",
       "      <th>age</th>\n",
       "      <th>gender</th>\n",
       "      <th>sex</th>\n",
       "      <th>education</th>\n",
       "      <th>Employment_status</th>\n",
       "      <th>Personal_Net_Income_Category</th>\n",
       "      <th>Ethnic_Background</th>\n",
       "      <th>living_arrangement</th>\n",
       "      <th>marital_status</th>\n",
       "      <th>hours_on_social_media</th>\n",
       "      <th>loneliness_score</th>\n",
       "      <th>social_media_frequency</th>\n",
       "      <th>mhi5_class_2022</th>\n",
       "      <th>gender.1</th>\n",
       "      <th>Religion</th>\n",
       "      <th>Religious_Membership</th>\n",
       "      <th>political_interest</th>\n",
       "      <th>mhi5_std_score_2022</th>\n",
       "    </tr>\n",
       "  </thead>\n",
       "  <tbody>\n",
       "    <tr>\n",
       "      <th>0</th>\n",
       "      <td>60.0</td>\n",
       "      <td>999</td>\n",
       "      <td>1.0</td>\n",
       "      <td>6.0</td>\n",
       "      <td>1</td>\n",
       "      <td>7.0</td>\n",
       "      <td>2.0</td>\n",
       "      <td>3.0</td>\n",
       "      <td>1.0</td>\n",
       "      <td>2.0</td>\n",
       "      <td>0</td>\n",
       "      <td>1.0</td>\n",
       "      <td>0.0</td>\n",
       "      <td>999</td>\n",
       "      <td>NaN</td>\n",
       "      <td>2.0</td>\n",
       "      <td>1.0</td>\n",
       "      <td>84.0</td>\n",
       "    </tr>\n",
       "    <tr>\n",
       "      <th>1</th>\n",
       "      <td>32.0</td>\n",
       "      <td>999</td>\n",
       "      <td>2.0</td>\n",
       "      <td>4.0</td>\n",
       "      <td>1</td>\n",
       "      <td>4.0</td>\n",
       "      <td>2.0</td>\n",
       "      <td>3.0</td>\n",
       "      <td>1.0</td>\n",
       "      <td>18.0</td>\n",
       "      <td>0</td>\n",
       "      <td>3.0</td>\n",
       "      <td>1.0</td>\n",
       "      <td>999</td>\n",
       "      <td>10.0</td>\n",
       "      <td>1.0</td>\n",
       "      <td>2.0</td>\n",
       "      <td>52.0</td>\n",
       "    </tr>\n",
       "    <tr>\n",
       "      <th>2</th>\n",
       "      <td>49.0</td>\n",
       "      <td>999</td>\n",
       "      <td>1.0</td>\n",
       "      <td>4.0</td>\n",
       "      <td>1</td>\n",
       "      <td>4.0</td>\n",
       "      <td>1.0</td>\n",
       "      <td>2.0</td>\n",
       "      <td>1.0</td>\n",
       "      <td>17.0</td>\n",
       "      <td>0</td>\n",
       "      <td>6.0</td>\n",
       "      <td>0.0</td>\n",
       "      <td>999</td>\n",
       "      <td>NaN</td>\n",
       "      <td>2.0</td>\n",
       "      <td>2.0</td>\n",
       "      <td>64.0</td>\n",
       "    </tr>\n",
       "    <tr>\n",
       "      <th>3</th>\n",
       "      <td>70.0</td>\n",
       "      <td>999</td>\n",
       "      <td>1.0</td>\n",
       "      <td>6.0</td>\n",
       "      <td>9</td>\n",
       "      <td>6.0</td>\n",
       "      <td>1.0</td>\n",
       "      <td>2.0</td>\n",
       "      <td>1.0</td>\n",
       "      <td>0.0</td>\n",
       "      <td>0</td>\n",
       "      <td>5.0</td>\n",
       "      <td>0.0</td>\n",
       "      <td>999</td>\n",
       "      <td>NaN</td>\n",
       "      <td>2.0</td>\n",
       "      <td>1.0</td>\n",
       "      <td>76.0</td>\n",
       "    </tr>\n",
       "    <tr>\n",
       "      <th>4</th>\n",
       "      <td>60.0</td>\n",
       "      <td>999</td>\n",
       "      <td>1.0</td>\n",
       "      <td>4.0</td>\n",
       "      <td>4</td>\n",
       "      <td>5.0</td>\n",
       "      <td>1.0</td>\n",
       "      <td>3.0</td>\n",
       "      <td>1.0</td>\n",
       "      <td>6.0</td>\n",
       "      <td>0</td>\n",
       "      <td>7.0</td>\n",
       "      <td>0.0</td>\n",
       "      <td>999</td>\n",
       "      <td>NaN</td>\n",
       "      <td>2.0</td>\n",
       "      <td>1.0</td>\n",
       "      <td>88.0</td>\n",
       "    </tr>\n",
       "  </tbody>\n",
       "</table>\n",
       "</div>"
      ],
      "text/plain": [
       "    age  gender  sex  education  Employment_status  \\\n",
       "0  60.0     999  1.0        6.0                  1   \n",
       "1  32.0     999  2.0        4.0                  1   \n",
       "2  49.0     999  1.0        4.0                  1   \n",
       "3  70.0     999  1.0        6.0                  9   \n",
       "4  60.0     999  1.0        4.0                  4   \n",
       "\n",
       "   Personal_Net_Income_Category  Ethnic_Background  living_arrangement  \\\n",
       "0                           7.0                2.0                 3.0   \n",
       "1                           4.0                2.0                 3.0   \n",
       "2                           4.0                1.0                 2.0   \n",
       "3                           6.0                1.0                 2.0   \n",
       "4                           5.0                1.0                 3.0   \n",
       "\n",
       "   marital_status  hours_on_social_media  loneliness_score  \\\n",
       "0             1.0                    2.0                 0   \n",
       "1             1.0                   18.0                 0   \n",
       "2             1.0                   17.0                 0   \n",
       "3             1.0                    0.0                 0   \n",
       "4             1.0                    6.0                 0   \n",
       "\n",
       "   social_media_frequency  mhi5_class_2022  gender.1  Religion  \\\n",
       "0                     1.0              0.0       999       NaN   \n",
       "1                     3.0              1.0       999      10.0   \n",
       "2                     6.0              0.0       999       NaN   \n",
       "3                     5.0              0.0       999       NaN   \n",
       "4                     7.0              0.0       999       NaN   \n",
       "\n",
       "   Religious_Membership  political_interest  mhi5_std_score_2022  \n",
       "0                   2.0                 1.0                 84.0  \n",
       "1                   1.0                 2.0                 52.0  \n",
       "2                   2.0                 2.0                 64.0  \n",
       "3                   2.0                 1.0                 76.0  \n",
       "4                   2.0                 1.0                 88.0  "
      ]
     },
     "execution_count": 5,
     "metadata": {},
     "output_type": "execute_result"
    }
   ],
   "source": [
    "import pandas as pd\n",
    "df=pd.read_csv(\"social_demographic.csv\")\n",
    "df.head()"
   ]
  },
  {
   "cell_type": "code",
   "execution_count": 41,
   "id": "68eaf0a1-2818-42d9-990a-e02059a2cd7d",
   "metadata": {},
   "outputs": [
    {
     "name": "stdout",
     "output_type": "stream",
     "text": [
      "<class 'pandas.core.frame.DataFrame'>\n",
      "RangeIndex: 995 entries, 0 to 994\n",
      "Data columns (total 18 columns):\n",
      " #   Column                        Non-Null Count  Dtype  \n",
      "---  ------                        --------------  -----  \n",
      " 0   age                           995 non-null    float64\n",
      " 1   gender                        995 non-null    int64  \n",
      " 2   sex                           995 non-null    float64\n",
      " 3   education                     993 non-null    float64\n",
      " 4   Employment_status             995 non-null    int64  \n",
      " 5   Personal_Net_Income_Category  993 non-null    float64\n",
      " 6   Ethnic_Background             961 non-null    float64\n",
      " 7   living_arrangement            995 non-null    float64\n",
      " 8   marital_status                995 non-null    float64\n",
      " 9   hours_on_social_media         995 non-null    float64\n",
      " 10  loneliness_score              995 non-null    int64  \n",
      " 11  social_media_frequency        986 non-null    float64\n",
      " 12  mhi5_class_2022               994 non-null    float64\n",
      " 13  gender.1                      995 non-null    int64  \n",
      " 14  Religion                      218 non-null    float64\n",
      " 15  Religious_Membership          995 non-null    float64\n",
      " 16  political_interest            980 non-null    float64\n",
      " 17  mhi5_std_score_2022           994 non-null    float64\n",
      "dtypes: float64(14), int64(4)\n",
      "memory usage: 140.1 KB\n"
     ]
    }
   ],
   "source": [
    "df.info()\n"
   ]
  },
  {
   "cell_type": "code",
   "execution_count": 7,
   "id": "bd685aa1-a75f-482e-8458-5f0f1a534d7d",
   "metadata": {},
   "outputs": [],
   "source": [
    "import pandas as pd\n",
    "\n",
    "# Define the target variable\n",
    "target_column = ['mhi5_class_2022']\n",
    "\n",
    "# Columns that are inside blocks but MAY only be needed for error analysis\n",
    "possible_error_analysis_columns = ['gender', 'Religion', 'Religious_Membership', 'political_interest','mhi5_std_score_2022', 'gender.1', 'Ethnic_Background', 'social_media_frequency' ]\n",
    "\n",
    "# Full list of extra columns\n",
    "keep_columns = target_column + possible_error_analysis_columns \n",
    "\n",
    "\n",
    "\n",
    "\n",
    "# Separate features and target\n",
    "X = df.drop(columns=keep_columns) \n",
    "y = df[target_column[0]]  # Target variable\n",
    "\n"
   ]
  },
  {
   "cell_type": "code",
   "execution_count": 9,
   "id": "8e67ef68-679e-4ee9-afe1-7e3d19deead1",
   "metadata": {},
   "outputs": [],
   "source": [
    "X= X.reset_index(drop=True)\n",
    "y= y.reset_index(drop=True)"
   ]
  },
  {
   "cell_type": "code",
   "execution_count": 11,
   "id": "8d3c0313-0481-42a8-8913-cd0f38c34c56",
   "metadata": {},
   "outputs": [
    {
     "name": "stdout",
     "output_type": "stream",
     "text": [
      "(995, 9)\n",
      "(995,)\n"
     ]
    }
   ],
   "source": [
    "print(X.shape)\n",
    "print(y.shape)"
   ]
  },
  {
   "cell_type": "code",
   "execution_count": 13,
   "id": "9c797c1c-4ca3-4417-b0e8-96838087cd4d",
   "metadata": {},
   "outputs": [
    {
     "name": "stdout",
     "output_type": "stream",
     "text": [
      "<class 'pandas.core.frame.DataFrame'>\n",
      "RangeIndex: 995 entries, 0 to 994\n",
      "Data columns (total 9 columns):\n",
      " #   Column                        Non-Null Count  Dtype  \n",
      "---  ------                        --------------  -----  \n",
      " 0   age                           995 non-null    float64\n",
      " 1   sex                           995 non-null    float64\n",
      " 2   education                     993 non-null    float64\n",
      " 3   Employment_status             995 non-null    int64  \n",
      " 4   Personal_Net_Income_Category  993 non-null    float64\n",
      " 5   living_arrangement            995 non-null    float64\n",
      " 6   marital_status                995 non-null    float64\n",
      " 7   hours_on_social_media         995 non-null    float64\n",
      " 8   loneliness_score              995 non-null    int64  \n",
      "dtypes: float64(7), int64(2)\n",
      "memory usage: 70.1 KB\n"
     ]
    }
   ],
   "source": [
    "X.info()"
   ]
  },
  {
   "cell_type": "code",
   "execution_count": 15,
   "id": "abc750fe-ca45-4cac-a832-0599260374dc",
   "metadata": {},
   "outputs": [
    {
     "name": "stdout",
     "output_type": "stream",
     "text": [
      "age                             0\n",
      "sex                             0\n",
      "education                       2\n",
      "Employment_status               0\n",
      "Personal_Net_Income_Category    2\n",
      "living_arrangement              0\n",
      "marital_status                  0\n",
      "hours_on_social_media           0\n",
      "loneliness_score                0\n",
      "dtype: int64\n"
     ]
    }
   ],
   "source": [
    "print(X.isna().sum()) \n",
    "# the classidfer cannot work if some entries have NAN"
   ]
  },
  {
   "cell_type": "code",
   "execution_count": 17,
   "id": "64c5c6b9-637d-4d1d-9674-e9da354c0c1b",
   "metadata": {},
   "outputs": [],
   "source": [
    "X.loc[:, \"education\"] = X[\"education\"].fillna(X[\"education\"].mean())\n",
    "X.loc[:, \"Personal_Net_Income_Category\"] = X[\"Personal_Net_Income_Category\"].fillna(X[\"Personal_Net_Income_Category\"].mean())"
   ]
  },
  {
   "cell_type": "code",
   "execution_count": 19,
   "id": "896aa3bf-d3be-4cd2-806f-5a5e745946f4",
   "metadata": {},
   "outputs": [
    {
     "name": "stdout",
     "output_type": "stream",
     "text": [
      "age                             0\n",
      "sex                             0\n",
      "education                       0\n",
      "Employment_status               0\n",
      "Personal_Net_Income_Category    0\n",
      "living_arrangement              0\n",
      "marital_status                  0\n",
      "hours_on_social_media           0\n",
      "loneliness_score                0\n",
      "dtype: int64\n"
     ]
    }
   ],
   "source": [
    "print(X.isna().sum())  # check for nan"
   ]
  },
  {
   "cell_type": "code",
   "execution_count": 21,
   "id": "b219d671-6220-4b0f-a085-e41024b8d19a",
   "metadata": {},
   "outputs": [
    {
     "name": "stdout",
     "output_type": "stream",
     "text": [
      "1\n",
      "float64\n"
     ]
    }
   ],
   "source": [
    "print(y.isna().sum())\n",
    "print(y.dtype)"
   ]
  },
  {
   "cell_type": "code",
   "execution_count": 23,
   "id": "136770e2-a51d-48e0-8f2d-a0fdd3104dc9",
   "metadata": {},
   "outputs": [
    {
     "name": "stdout",
     "output_type": "stream",
     "text": [
      "0\n"
     ]
    }
   ],
   "source": [
    "\n",
    "y.dropna(inplace=True)  #drop the entry with nan\n",
    "X = X.loc[y.index]    # keep X and y aligned\n",
    "print(y.isna().sum())"
   ]
  },
  {
   "cell_type": "markdown",
   "id": "bc6f109c-f0b9-49c5-9b01-da0ce0211c8f",
   "metadata": {},
   "source": [
    "Nested CROSS-Validation"
   ]
  },
  {
   "cell_type": "code",
   "execution_count": 26,
   "id": "38d02fae",
   "metadata": {},
   "outputs": [],
   "source": [
    "from sklearn.model_selection import train_test_split\n",
    "\n",
    "# Stratified train-test split (80% train, 20% test)\n",
    "X_train, X_test, y_train, y_test = train_test_split(X, y, test_size=0.2, random_state=42, stratify=y)"
   ]
  },
  {
   "cell_type": "code",
   "execution_count": 30,
   "id": "700b67ba-32bd-4491-80cf-1cc67e496da4",
   "metadata": {},
   "outputs": [],
   "source": [
    "# this cell code should stay. sampler defination is needed for lr and random forest cell code.\n",
    "from imblearn.combine import SMOTETomek\n",
    "from imblearn.under_sampling import RandomUnderSampler\n",
    "from sklearn.model_selection import StratifiedKFold\n",
    "\n",
    "# Sampler dictionary\n",
    "samplers = {\n",
    "    'none': None,\n",
    "    'undersample': RandomUnderSampler(random_state=42),\n",
    "    'smotetomek': SMOTETomek(random_state=42)\n",
    "}\n",
    "\n",
    "# Outer CV (voor consistentie)\n",
    "outer_cv = StratifiedKFold(n_splits=5, shuffle=True, random_state=42)\n"
   ]
  },
  {
   "cell_type": "markdown",
   "id": "abda55e4",
   "metadata": {},
   "source": [
    "#### Logistic Regression:"
   ]
  },
  {
   "cell_type": "code",
   "execution_count": 45,
   "id": "40a88357-d897-439c-bd16-6d21fc3ffa06",
   "metadata": {},
   "outputs": [
    {
     "name": "stderr",
     "output_type": "stream",
     "text": [
      "[Parallel(n_jobs=-1)]: Using backend LokyBackend with 12 concurrent workers.\n"
     ]
    },
    {
     "name": "stdout",
     "output_type": "stream",
     "text": [
      "Nested CV results:\n",
      "[0.38297872 0.36781609 0.41237113 0.29885057 0.33684211]\n",
      "Mean F1 score: 0.3597717258709397\n",
      "STD F1 score: 0.03900545720166664\n",
      "Parameters of the best model: {'classifier__C': 0.01, 'sampler': RandomUnderSampler(random_state=42)}\n",
      "Model 1 parameters: {'classifier__C': 0.01, 'sampler': RandomUnderSampler(random_state=42)}\n",
      "Model 2 parameters: {'classifier__C': 10, 'sampler': SMOTETomek(random_state=42)}\n",
      "Model 3 parameters: {'classifier__C': 0.01, 'sampler': RandomUnderSampler(random_state=42)}\n",
      "Model 4 parameters: {'classifier__C': 10, 'sampler': RandomUnderSampler(random_state=42)}\n",
      "Model 5 parameters: {'classifier__C': 0.01, 'sampler': RandomUnderSampler(random_state=42)}\n"
     ]
    },
    {
     "name": "stderr",
     "output_type": "stream",
     "text": [
      "[Parallel(n_jobs=-1)]: Done   5 out of   5 | elapsed:    4.3s finished\n"
     ]
    },
    {
     "data": {
      "text/plain": [
       "['nested_cv_search_lr_social+demo.pkl']"
      ]
     },
     "execution_count": 45,
     "metadata": {},
     "output_type": "execute_result"
    }
   ],
   "source": [
    "from sklearn.linear_model import LogisticRegression\n",
    "from sklearn.preprocessing import StandardScaler\n",
    "from imblearn.pipeline import Pipeline as ImbPipeline\n",
    "from sklearn.model_selection import GridSearchCV\n",
    "from sklearn.metrics import classification_report\n",
    "import numpy as np\n",
    "import joblib\n",
    "\n",
    "# Hyperparameter grid\n",
    "param_grid_lr = {\n",
    "    'sampler': [samplers['none'], samplers['undersample'], samplers['smotetomek']],\n",
    "    'classifier__C': [0.01, 0.1, 1, 10]\n",
    "}\n",
    "\n",
    "# Pipeline\n",
    "pipeline_lr = ImbPipeline([\n",
    "    ('sampler', SMOTETomek()),  # wordt geswitched op basis van de param_grid_lr\n",
    "    ('scaler', StandardScaler()), # hier doen na datasplit anders dataleakage niet bij preprocessing.\n",
    "    ('classifier', LogisticRegression(max_iter=1000, random_state=42))\n",
    "])\n",
    "\n",
    "# GridSearch\n",
    "grid_lr = GridSearchCV(pipeline_lr, param_grid=param_grid_lr, cv=3, scoring='f1', n_jobs=-1) # cv gaat automatisch stratifiedsplit\n",
    "\n",
    "# nested cross_validation\n",
    "from sklearn.model_selection import cross_validate\n",
    "nested_cv_search = cross_validate(\n",
    "    grid_lr,\n",
    "    X=X_train,\n",
    "    y=y_train,\n",
    "    cv=5,\n",
    "    scoring='f1',\n",
    "    error_score='raise',\n",
    "    return_estimator=True,\n",
    "    return_train_score=False,\n",
    "    verbose=1,\n",
    "    n_jobs=-1\n",
    ")\n",
    "print(\"Nested CV results:\")\n",
    "print(nested_cv_search['test_score'])\n",
    "print(\"Mean F1 score:\", nested_cv_search['test_score'].mean())\n",
    "print('STD F1 score:', nested_cv_search['test_score'].std())\n",
    "best_score_index = np.argmax(nested_cv_search['test_score'])\n",
    "best_model = nested_cv_search['estimator'][best_score_index]\n",
    "print('Parameters of the best model:', best_model.best_params_)\n",
    "# print the parameters of all 5 models\n",
    "for i, model in enumerate(nested_cv_search['estimator']):\n",
    "    print(f\"Model {i+1} parameters: {model.best_params_}\")\n",
    "\n",
    "# sla de nested_cv op\n",
    "joblib.dump(nested_cv_search, 'nested_cv_search_lr_social+demo.pkl')\n"
   ]
  },
  {
   "cell_type": "markdown",
   "id": "59801fe4",
   "metadata": {},
   "source": [
    "#### Random Forest"
   ]
  },
  {
   "cell_type": "code",
   "execution_count": 34,
   "id": "0a9d83a9-b2ab-4a00-af9e-2ddcbb92f3da",
   "metadata": {},
   "outputs": [
    {
     "name": "stderr",
     "output_type": "stream",
     "text": [
      "C:\\Users\\u1246538\\AppData\\Local\\Temp\\ipykernel_7460\\3489558747.py:52: ExperimentalWarning: OptunaSearchCV is experimental (supported from v0.17.0). The interface can change in the future.\n",
      "  optuna_search_rf = OptunaSearchCV(\n",
      "[Parallel(n_jobs=-1)]: Using backend LokyBackend with 12 concurrent workers.\n",
      "C:\\Users\\u1246538\\AppData\\Local\\anaconda3\\Lib\\site-packages\\sklearn\\base.py:125: ExperimentalWarning: OptunaSearchCV is experimental (supported from v0.17.0). The interface can change in the future.\n",
      "  new_object = klass(**new_object_params)\n",
      "[Parallel(n_jobs=-1)]: Done   5 out of   5 | elapsed:   51.8s finished\n"
     ]
    },
    {
     "name": "stdout",
     "output_type": "stream",
     "text": [
      "Nested CV results:\n",
      "[0.35294118 0.44210526 0.35294118 0.33684211 0.39252336]\n",
      "Mean F1 score: 0.3754706171696421\n",
      "STD F1 score: 0.03804808948041524\n",
      "Parameters of the best model: {'sampler': 'undersample', 'classifier__n_estimators': 100, 'classifier__max_depth': 5, 'classifier__max_features': 'sqrt', 'classifier__min_samples_split': 3, 'classifier__min_samples_leaf': 1}\n",
      "Model 1 parameters: {'sampler': 'undersample', 'classifier__n_estimators': 200, 'classifier__max_depth': 5, 'classifier__max_features': 'log2', 'classifier__min_samples_split': 8, 'classifier__min_samples_leaf': 4}\n",
      "Model 2 parameters: {'sampler': 'undersample', 'classifier__n_estimators': 100, 'classifier__max_depth': 5, 'classifier__max_features': 'sqrt', 'classifier__min_samples_split': 3, 'classifier__min_samples_leaf': 1}\n",
      "Model 3 parameters: {'sampler': 'undersample', 'classifier__n_estimators': 100, 'classifier__max_depth': 5, 'classifier__max_features': 'log2', 'classifier__min_samples_split': 10, 'classifier__min_samples_leaf': 2}\n",
      "Model 4 parameters: {'sampler': 'undersample', 'classifier__n_estimators': 200, 'classifier__max_depth': 15, 'classifier__max_features': 'sqrt', 'classifier__min_samples_split': 10, 'classifier__min_samples_leaf': 2}\n",
      "Model 5 parameters: {'sampler': 'undersample', 'classifier__n_estimators': 100, 'classifier__max_depth': 10, 'classifier__max_features': 'log2', 'classifier__min_samples_split': 9, 'classifier__min_samples_leaf': 2}\n"
     ]
    },
    {
     "data": {
      "text/plain": [
       "['nested_cv_search_rf_social+demo.pkl']"
      ]
     },
     "execution_count": 34,
     "metadata": {},
     "output_type": "execute_result"
    }
   ],
   "source": [
    "import optuna\n",
    "from optuna.integration import OptunaSearchCV\n",
    "from optuna.distributions import IntDistribution, CategoricalDistribution\n",
    "\n",
    "from sklearn.ensemble import RandomForestClassifier\n",
    "from sklearn.preprocessing import StandardScaler\n",
    "from imblearn.pipeline import Pipeline as ImbPipeline\n",
    "from imblearn.combine import SMOTETomek\n",
    "from sklearn.model_selection import StratifiedKFold, cross_validate\n",
    "import numpy as np\n",
    "import joblib\n",
    "\n",
    "# Sampler dictionary\n",
    "samplers = {\n",
    "    'none': None,\n",
    "    'undersample': RandomUnderSampler(random_state=42),\n",
    "    'smotetomek': SMOTETomek(random_state=42)\n",
    "}\n",
    "\n",
    "# Define sampler mapping (assumes this exists globally)\n",
    "sampler_map = {\n",
    "    'none': 'passthrough', # placeholder\n",
    "    'undersample': samplers['undersample'],\n",
    "    'smotetomek': samplers['smotetomek']\n",
    "}\n",
    "\n",
    "# Custom pipeline that resolves string samplers\n",
    "class SamplerResolvingPipeline(ImbPipeline):\n",
    "    def set_params(self, **kwargs):\n",
    "        if 'sampler' in kwargs and isinstance(kwargs['sampler'], str):\n",
    "            kwargs['sampler'] = sampler_map[kwargs['sampler']]\n",
    "        return super().set_params(**kwargs)\n",
    "\n",
    "# Pipeline\n",
    "pipeline_rf = SamplerResolvingPipeline([\n",
    "    ('sampler', 'passthrough'),  # placeholder.'passthrough' is the correct way to skip a pipeline step in scikit-learn.Just don’t ever pass None ( like in the samplers definition) directly into the pipeline — but you didn’t, so you’re good.\n",
    "    ('scaler', StandardScaler()),\n",
    "    ('classifier', RandomForestClassifier(random_state=42, n_jobs=-1))\n",
    "])\n",
    "\n",
    "# Define Optuna hyperparameter search space\n",
    "param_distributions_rf = {\n",
    "    'sampler': CategoricalDistribution(['none', 'undersample', 'smotetomek']),\n",
    "    'classifier__n_estimators': IntDistribution(50, 250, step=50),\n",
    "    'classifier__max_depth': CategoricalDistribution([None, 5, 10, 15, 20]),\n",
    "    'classifier__max_features': CategoricalDistribution(['sqrt', 'log2']),  # 'auto' deprecated\n",
    "    'classifier__min_samples_split': IntDistribution(2, 10),\n",
    "    'classifier__min_samples_leaf': IntDistribution(1, 4)\n",
    "}\n",
    "\n",
    "# Inner CV: 3-fold hyperparameter tuning with Optuna\n",
    "optuna_search_rf = OptunaSearchCV(\n",
    "    estimator=pipeline_rf,\n",
    "    param_distributions=param_distributions_rf,\n",
    "    cv=3,\n",
    "    n_trials=50,\n",
    "    scoring='f1',\n",
    "    n_jobs=-1,\n",
    "    random_state=42,\n",
    "    verbose=1\n",
    ")\n",
    "\n",
    "# Outer CV: 5-fold nested cross-validation\n",
    "nested_cv_search = cross_validate(\n",
    "    optuna_search_rf,\n",
    "    X=X_train,\n",
    "    y=y_train,\n",
    "    cv=5,\n",
    "    scoring='f1',\n",
    "    error_score='raise',\n",
    "    return_estimator=True,\n",
    "    return_train_score=False,\n",
    "    verbose=1,\n",
    "    n_jobs=-1\n",
    ")\n",
    "\n",
    "# Results\n",
    "print(\"Nested CV results:\")\n",
    "print(nested_cv_search['test_score'])\n",
    "print(\"Mean F1 score:\", nested_cv_search['test_score'].mean())\n",
    "print(\"STD F1 score:\", nested_cv_search['test_score'].std())\n",
    "\n",
    "# Best model across folds\n",
    "best_score_index = np.argmax(nested_cv_search['test_score'])\n",
    "best_model = nested_cv_search['estimator'][best_score_index]\n",
    "print('Parameters of the best model:', best_model.best_params_)\n",
    "\n",
    "# Parameters of all models\n",
    "for i, model in enumerate(nested_cv_search['estimator']):\n",
    "    print(f\"Model {i+1} parameters: {model.best_params_}\")\n",
    "\n",
    "# Save results\n",
    "joblib.dump(nested_cv_search, 'nested_cv_search_rf_social+demo.pkl')\n"
   ]
  },
  {
   "cell_type": "code",
   "execution_count": 39,
   "id": "9e8bf647",
   "metadata": {},
   "outputs": [
    {
     "name": "stderr",
     "output_type": "stream",
     "text": [
      "[Parallel(n_jobs=-1)]: Using backend LokyBackend with 12 concurrent workers.\n",
      "[Parallel(n_jobs=-1)]: Done   5 out of   5 | elapsed: 41.0min finished\n"
     ]
    },
    {
     "name": "stdout",
     "output_type": "stream",
     "text": [
      "Nested CV results:\n",
      "[0.34951456 0.38297872 0.36       0.32       0.40366972]\n",
      "Mean F1 score: 0.36323260225633874\n",
      "STD F1 score: 0.028610356135273265\n",
      "Parameters of the best model: {'classifier__max_depth': None, 'classifier__max_features': 'sqrt', 'classifier__min_samples_leaf': 2, 'classifier__min_samples_split': 9, 'classifier__n_estimators': 100, 'sampler': RandomUnderSampler(random_state=42)}\n",
      "Model 1 parameters: {'classifier__max_depth': 5, 'classifier__max_features': 'sqrt', 'classifier__min_samples_leaf': 1, 'classifier__min_samples_split': 6, 'classifier__n_estimators': 150, 'sampler': RandomUnderSampler(random_state=42)}\n",
      "Model 2 parameters: {'classifier__max_depth': 5, 'classifier__max_features': 'sqrt', 'classifier__min_samples_leaf': 2, 'classifier__min_samples_split': 10, 'classifier__n_estimators': 100, 'sampler': RandomUnderSampler(random_state=42)}\n",
      "Model 3 parameters: {'classifier__max_depth': None, 'classifier__max_features': 'sqrt', 'classifier__min_samples_leaf': 4, 'classifier__min_samples_split': 10, 'classifier__n_estimators': 150, 'sampler': RandomUnderSampler(random_state=42)}\n",
      "Model 4 parameters: {'classifier__max_depth': 10, 'classifier__max_features': 'sqrt', 'classifier__min_samples_leaf': 1, 'classifier__min_samples_split': 4, 'classifier__n_estimators': 50, 'sampler': RandomUnderSampler(random_state=42)}\n",
      "Model 5 parameters: {'classifier__max_depth': None, 'classifier__max_features': 'sqrt', 'classifier__min_samples_leaf': 2, 'classifier__min_samples_split': 9, 'classifier__n_estimators': 100, 'sampler': RandomUnderSampler(random_state=42)}\n"
     ]
    },
    {
     "data": {
      "text/plain": [
       "['nested_cv_search_rf_social+demo.pkl']"
      ]
     },
     "execution_count": 39,
     "metadata": {},
     "output_type": "execute_result"
    }
   ],
   "source": [
    "# from sklearn.ensemble import RandomForestClassifier\n",
    "# from sklearn.preprocessing import StandardScaler\n",
    "# from imblearn.pipeline import Pipeline as ImbPipeline\n",
    "# from sklearn.model_selection import GridSearchCV, RandomizedSearchCV\n",
    "# from sklearn.metrics import classification_report\n",
    "# import numpy as np\n",
    "# import joblib\n",
    "\n",
    "# # Hyperparameter grid\n",
    "# param_grid_rf = {\n",
    "#     'sampler': [samplers['none'], samplers['undersample'], samplers['smotetomek']],\n",
    "#     'classifier__n_estimators': [50, 100, 150, 200, 250],\n",
    "#     'classifier__max_depth': [None, 5, 10, 15, 20],\n",
    "#     'classifier__max_features': ['auto', 'sqrt'],  # ← dit was de boosdoener\n",
    "#     'classifier__min_samples_split': [2, 3, 4, 5, 6, 7, 8, 9, 10],\n",
    "#     'classifier__min_samples_leaf': [1, 2, 3, 4],\n",
    "# }\n",
    "\n",
    "\n",
    "# # Pipeline\n",
    "# pipeline_rf = ImbPipeline([\n",
    "#     ('sampler', SMOTETomek()),  # wordt geswitched op basis van de param_grid_rf\n",
    "#     ('scaler', StandardScaler()), # hier doen na datasplit anders dataleakage niet bij preprocessing.\n",
    "#     ('classifier', RandomForestClassifier(random_state=42, n_jobs=-1))\n",
    "# ])\n",
    "\n",
    "# #gridsearch  # cv gaat automatisch stratifiedsplit\n",
    "# grid_rf = GridSearchCV(pipeline_rf, param_grid=param_grid_rf, cv=3, scoring='f1', n_jobs=-1)\n",
    "\n",
    "# # nested cross_validation\n",
    "# from sklearn.model_selection import cross_validate\n",
    "# nested_cv_search = cross_validate(\n",
    "#     grid_rf,\n",
    "#     X=X_train,\n",
    "#     y=y_train,\n",
    "#     cv=5,\n",
    "#     scoring='f1',\n",
    "#     error_score='raise',\n",
    "#     return_estimator=True,\n",
    "#     return_train_score=False,\n",
    "#     verbose=1,\n",
    "#     n_jobs=-1\n",
    "# )\n",
    "# print(\"Nested CV results:\")\n",
    "# print(nested_cv_search['test_score'])\n",
    "# print(\"Mean F1 score:\", nested_cv_search['test_score'].mean())\n",
    "# print('STD F1 score:', nested_cv_search['test_score'].std())\n",
    "# best_score_index = np.argmax(nested_cv_search['test_score'])\n",
    "# best_model = nested_cv_search['estimator'][best_score_index]\n",
    "# print('Parameters of the best model:', best_model.best_params_)\n",
    "# # print the parameters of all 5 models\n",
    "# for i, model in enumerate(nested_cv_search['estimator']):\n",
    "#     print(f\"Model {i+1} parameters: {model.best_params_}\")\n",
    "\n",
    "# # sla de nested_cv op\n",
    "# joblib.dump(nested_cv_search, 'nested_cv_search_rf_social+demo.pkl')"
   ]
  },
  {
   "cell_type": "markdown",
   "id": "c7348911",
   "metadata": {},
   "source": [
    "#### SVM"
   ]
  },
  {
   "cell_type": "code",
   "execution_count": 31,
   "id": "34383260-5785-45b2-8104-a199caef7bf3",
   "metadata": {},
   "outputs": [
    {
     "name": "stderr",
     "output_type": "stream",
     "text": [
      "C:\\Users\\u1246538\\AppData\\Local\\Temp\\ipykernel_7664\\534800832.py:47: ExperimentalWarning: OptunaSearchCV is experimental (supported from v0.17.0). The interface can change in the future.\n",
      "  optuna_search = OptunaSearchCV(\n",
      "[Parallel(n_jobs=-1)]: Using backend LokyBackend with 12 concurrent workers.\n",
      "C:\\Users\\u1246538\\AppData\\Local\\anaconda3\\Lib\\site-packages\\sklearn\\base.py:125: ExperimentalWarning: OptunaSearchCV is experimental (supported from v0.17.0). The interface can change in the future.\n",
      "  new_object = klass(**new_object_params)\n"
     ]
    },
    {
     "name": "stdout",
     "output_type": "stream",
     "text": [
      "Nested CV F1 scores: [0.32941176 0.41758242 0.37362637 0.29268293 0.41758242]\n",
      "Mean F1 score: 0.3661771800652719\n",
      "STD F1 score: 0.04918046034425736\n",
      "Best parameters per fold:\n",
      "Fold 1: {'sampler': 'undersample', 'classifier__kernel': 'rbf', 'classifier__C': 0.9002687365911997, 'classifier__gamma': 0.1, 'classifier__degree': 5, 'classifier__class_weight': None}\n",
      "Fold 2: {'sampler': 'none', 'classifier__kernel': 'linear', 'classifier__C': 0.15954544874843024, 'classifier__gamma': 0.01, 'classifier__degree': 3, 'classifier__class_weight': 'balanced'}\n",
      "Fold 3: {'sampler': 'undersample', 'classifier__kernel': 'linear', 'classifier__C': 0.27826453624171565, 'classifier__gamma': 0.1, 'classifier__degree': 3, 'classifier__class_weight': None}\n",
      "Fold 4: {'sampler': 'smotetomek', 'classifier__kernel': 'rbf', 'classifier__C': 0.33539906728461966, 'classifier__gamma': 0.001, 'classifier__degree': 5, 'classifier__class_weight': 'balanced'}\n",
      "Fold 5: {'sampler': 'none', 'classifier__kernel': 'linear', 'classifier__C': 0.20929800826801087, 'classifier__gamma': 'scale', 'classifier__degree': 5, 'classifier__class_weight': 'balanced'}\n",
      "Parameters of the best overall model: {'sampler': 'none', 'classifier__kernel': 'linear', 'classifier__C': 0.15954544874843024, 'classifier__gamma': 0.01, 'classifier__degree': 3, 'classifier__class_weight': 'balanced'}\n"
     ]
    },
    {
     "name": "stderr",
     "output_type": "stream",
     "text": [
      "[Parallel(n_jobs=-1)]: Done   5 out of   5 | elapsed:   10.7s finished\n"
     ]
    },
    {
     "data": {
      "text/plain": [
       "['nested_cv_optuna_svm.pkl']"
      ]
     },
     "execution_count": 31,
     "metadata": {},
     "output_type": "execute_result"
    }
   ],
   "source": [
    "import optuna\n",
    "from optuna.integration import OptunaSearchCV\n",
    "from optuna.distributions import CategoricalDistribution, FloatDistribution, IntDistribution\n",
    "\n",
    "import numpy as np\n",
    "import joblib\n",
    "from sklearn.svm import SVC\n",
    "from sklearn.preprocessing import StandardScaler\n",
    "from sklearn.model_selection import StratifiedKFold, cross_validate\n",
    "from sklearn.base import clone\n",
    "from imblearn.pipeline import Pipeline as ImbPipeline\n",
    "from imblearn.combine import SMOTETomek\n",
    "from imblearn.under_sampling import RandomUnderSampler\n",
    "\n",
    "# 1. Define your sampler map\n",
    "sampler_map = {\n",
    "    'none': 'passthrough',\n",
    "    'undersample': RandomUnderSampler(),\n",
    "    'smotetomek': SMOTETomek()\n",
    "}\n",
    "\n",
    "# 2. Custom pipeline class that resolves sampler strings\n",
    "class SamplerResolvingPipeline(ImbPipeline):\n",
    "    def set_params(self, **kwargs):\n",
    "        if 'sampler' in kwargs and isinstance(kwargs['sampler'], str):\n",
    "            kwargs['sampler'] = sampler_map[kwargs['sampler']]\n",
    "        return super().set_params(**kwargs)\n",
    "\n",
    "# 3. Define the pipeline\n",
    "pipeline = SamplerResolvingPipeline([\n",
    "    ('sampler', 'passthrough'),  # will be overridden\n",
    "    ('scaler', StandardScaler()),\n",
    "    ('classifier', SVC(probability=True, random_state=42))\n",
    "])\n",
    "\n",
    "# 4. Define Optuna-compatible search space\n",
    "param_distributions = {\n",
    "    'sampler': CategoricalDistribution(['none', 'undersample', 'smotetomek']),\n",
    "    'classifier__kernel': CategoricalDistribution(['linear', 'rbf', 'poly']),\n",
    "    'classifier__C': FloatDistribution(0.1, 100, log=True),\n",
    "    'classifier__gamma': CategoricalDistribution(['scale', 'auto', 0.1, 0.01, 0.001]),\n",
    "    'classifier__degree': IntDistribution(2, 5),  # only for 'poly'\n",
    "    'classifier__class_weight': CategoricalDistribution([None, 'balanced'])\n",
    "}\n",
    "\n",
    "# 5. Setup OptunaSearchCV (inner CV: 3-fold)\n",
    "optuna_search = OptunaSearchCV(\n",
    "    estimator=pipeline,\n",
    "    param_distributions=param_distributions,\n",
    "    cv=3,\n",
    "    n_trials=50,\n",
    "    scoring='f1',\n",
    "    n_jobs=-1,\n",
    "    random_state=42,\n",
    "    verbose=1\n",
    ")\n",
    "\n",
    "# 6. Outer nested cross-validation (5-fold)\n",
    "outer_cv = StratifiedKFold(n_splits=5, shuffle=True, random_state=42)\n",
    "nested_cv_results = cross_validate(\n",
    "    optuna_search,\n",
    "    X=X_train,\n",
    "    y=y_train,\n",
    "    cv=outer_cv,\n",
    "    scoring='f1',\n",
    "    return_estimator=True,\n",
    "    return_train_score=False,\n",
    "    verbose=1,\n",
    "    n_jobs=-1\n",
    ")\n",
    "\n",
    "# 7. Print and save results\n",
    "print(\"Nested CV F1 scores:\", nested_cv_results['test_score'])\n",
    "print(\"Mean F1 score:\", np.mean(nested_cv_results['test_score']))\n",
    "print(\"STD F1 score:\", np.std(nested_cv_results['test_score']))\n",
    "print(\"Best parameters per fold:\")\n",
    "for i, model in enumerate(nested_cv_results['estimator']):\n",
    "    print(f\"Fold {i+1}: {model.best_params_}\")\n",
    "best_score_index = np.argmax(nested_cv_results['test_score'])\n",
    "best_model = nested_cv_results['estimator'][best_score_index]\n",
    "print(\"Parameters of the best overall model:\", best_model.best_params_)\n",
    "\n",
    "joblib.dump(nested_cv_results, 'nested_cv_optuna_svm.pkl')\n"
   ]
  },
  {
   "cell_type": "markdown",
   "id": "aab71cda",
   "metadata": {},
   "source": [
    "#### XGBoost"
   ]
  },
  {
   "cell_type": "code",
   "execution_count": 33,
   "id": "83ac571e",
   "metadata": {},
   "outputs": [
    {
     "name": "stderr",
     "output_type": "stream",
     "text": [
      "C:\\Users\\u1246538\\AppData\\Local\\Temp\\ipykernel_7664\\183134602.py:51: ExperimentalWarning: OptunaSearchCV is experimental (supported from v0.17.0). The interface can change in the future.\n",
      "  optuna_search = OptunaSearchCV(\n",
      "[Parallel(n_jobs=-1)]: Using backend LokyBackend with 12 concurrent workers.\n",
      "C:\\Users\\u1246538\\AppData\\Local\\anaconda3\\Lib\\site-packages\\sklearn\\base.py:125: ExperimentalWarning: OptunaSearchCV is experimental (supported from v0.17.0). The interface can change in the future.\n",
      "  new_object = klass(**new_object_params)\n",
      "[Parallel(n_jobs=-1)]: Done   5 out of   5 | elapsed:   14.1s finished\n"
     ]
    },
    {
     "name": "stdout",
     "output_type": "stream",
     "text": [
      "Nested CV F1 scores: [0.3030303  0.36842105 0.35051546 0.37037037 0.45283019]\n",
      "Mean F1 score: 0.36903347572580464\n",
      "STD F1 score: 0.04842186906417823\n",
      "Best parameters per fold:\n",
      "Fold 1: {'sampler': 'undersample', 'classifier__n_estimators': 100, 'classifier__learning_rate': 0.02030970191719588, 'classifier__max_depth': 6, 'classifier__min_child_weight': 3, 'classifier__subsample': 0.8, 'classifier__colsample_bytree': 0.8, 'classifier__gamma': 0.9, 'classifier__reg_alpha': 0.001047773786323205, 'classifier__reg_lambda': 0.11769324925476121}\n",
      "Fold 2: {'sampler': 'undersample', 'classifier__n_estimators': 50, 'classifier__learning_rate': 0.050601576435811695, 'classifier__max_depth': 2, 'classifier__min_child_weight': 1, 'classifier__subsample': 1.0, 'classifier__colsample_bytree': 0.8, 'classifier__gamma': 0.8, 'classifier__reg_alpha': 1.9628645450209674, 'classifier__reg_lambda': 1.9297303053692105}\n",
      "Fold 3: {'sampler': 'undersample', 'classifier__n_estimators': 100, 'classifier__learning_rate': 0.06982475854026737, 'classifier__max_depth': 15, 'classifier__min_child_weight': 3, 'classifier__subsample': 0.6, 'classifier__colsample_bytree': 0.6, 'classifier__gamma': 0.6000000000000001, 'classifier__reg_alpha': 0.004985237458086467, 'classifier__reg_lambda': 0.02192042504124116}\n",
      "Fold 4: {'sampler': 'undersample', 'classifier__n_estimators': 50, 'classifier__learning_rate': 0.04517475544116468, 'classifier__max_depth': 6, 'classifier__min_child_weight': 5, 'classifier__subsample': 0.6, 'classifier__colsample_bytree': 1.0, 'classifier__gamma': 0.6000000000000001, 'classifier__reg_alpha': 0.11757678929647439, 'classifier__reg_lambda': 0.009110389311782374}\n",
      "Fold 5: {'sampler': 'undersample', 'classifier__n_estimators': 400, 'classifier__learning_rate': 0.049102224538023785, 'classifier__max_depth': 15, 'classifier__min_child_weight': 3, 'classifier__subsample': 1.0, 'classifier__colsample_bytree': 0.6, 'classifier__gamma': 0.6000000000000001, 'classifier__reg_alpha': 0.07656858049254477, 'classifier__reg_lambda': 0.001905984978855973}\n",
      "Parameters of the best overall model: {'sampler': 'undersample', 'classifier__n_estimators': 400, 'classifier__learning_rate': 0.049102224538023785, 'classifier__max_depth': 15, 'classifier__min_child_weight': 3, 'classifier__subsample': 1.0, 'classifier__colsample_bytree': 0.6, 'classifier__gamma': 0.6000000000000001, 'classifier__reg_alpha': 0.07656858049254477, 'classifier__reg_lambda': 0.001905984978855973}\n"
     ]
    },
    {
     "data": {
      "text/plain": [
       "['nested_cv_optuna_xgb.pkl']"
      ]
     },
     "execution_count": 33,
     "metadata": {},
     "output_type": "execute_result"
    }
   ],
   "source": [
    "# mocht het nou echt niet werken met XGBoost(extreme gradient boosting), dan GradientBoostingClassifier die zit in sklearn\n",
    "import optuna\n",
    "from optuna.integration import OptunaSearchCV\n",
    "from optuna.distributions import CategoricalDistribution, FloatDistribution, IntDistribution\n",
    "import numpy as np\n",
    "import joblib\n",
    "import xgboost as xgb\n",
    "from sklearn.preprocessing import StandardScaler\n",
    "from sklearn.model_selection import StratifiedKFold, cross_validate\n",
    "from sklearn.base import clone\n",
    "from imblearn.pipeline import Pipeline as ImbPipeline\n",
    "from imblearn.combine import SMOTETomek\n",
    "from imblearn.under_sampling import RandomUnderSampler\n",
    "\n",
    "# 1. Define your sampler map\n",
    "sampler_map = {\n",
    "    'none': 'passthrough',\n",
    "    'undersample': RandomUnderSampler(random_state=42),\n",
    "    'smotetomek': SMOTETomek(random_state=42)\n",
    "}\n",
    "\n",
    "# 2. Custom pipeline class that resolves sampler strings\n",
    "class SamplerResolvingPipeline(ImbPipeline):\n",
    "    def set_params(self, **kwargs):\n",
    "        if 'sampler' in kwargs and isinstance(kwargs['sampler'], str):\n",
    "            kwargs['sampler'] = sampler_map[kwargs['sampler']]\n",
    "        return super().set_params(**kwargs)\n",
    "\n",
    "# 3. Define the pipeline\n",
    "pipeline = SamplerResolvingPipeline([\n",
    "    ('sampler', 'passthrough'),  # will be overridden\n",
    "    ('scaler', StandardScaler()),\n",
    "    ('classifier', xgb.XGBClassifier(objective='binary:logistic', eval_metric='logloss', random_state=42))\n",
    "])\n",
    "\n",
    "# 4. Define Optuna-compatible search space based on the provided hyperparameters\n",
    "param_distributions = {\n",
    "    'sampler': CategoricalDistribution(['none', 'undersample', 'smotetomek']),\n",
    "    'classifier__n_estimators': CategoricalDistribution([50, 100, 200, 400, 500]),\n",
    "    'classifier__learning_rate': FloatDistribution(0.01, 0.1, log=True),\n",
    "    'classifier__max_depth': CategoricalDistribution([2, 4, 6, 10, 15]),\n",
    "    'classifier__min_child_weight': CategoricalDistribution([1, 3, 5]),\n",
    "    'classifier__subsample': CategoricalDistribution([0.6, 0.8, 1.0]),\n",
    "    'classifier__colsample_bytree': CategoricalDistribution([0.6, 0.8, 1.0]),\n",
    "    'classifier__gamma': FloatDistribution(0.0, 1.0, step=0.1),\n",
    "    'classifier__reg_alpha': FloatDistribution(0.001, 5.0, log=True),  # L1 regularization\n",
    "    'classifier__reg_lambda': FloatDistribution(0.001, 5.0, log=True),  # L2 regularization\n",
    "}\n",
    "\n",
    "# 5. Setup OptunaSearchCV (inner CV: 3-fold)\n",
    "optuna_search = OptunaSearchCV(\n",
    "    estimator=pipeline,\n",
    "    param_distributions=param_distributions,\n",
    "    cv=3,  # inner CV with 3 folds\n",
    "    n_trials=50,\n",
    "    scoring='f1',\n",
    "    n_jobs=-1,\n",
    "    random_state=42,\n",
    "    verbose=1\n",
    ")\n",
    "\n",
    "# 6. Outer nested cross-validation (5-fold)\n",
    "outer_cv = StratifiedKFold(n_splits=5, shuffle=True, random_state=42)\n",
    "nested_cv_results = cross_validate(\n",
    "    optuna_search,\n",
    "    X=X_train,\n",
    "    y=y_train,\n",
    "    cv=outer_cv,\n",
    "    scoring='f1',\n",
    "    return_estimator=True,\n",
    "    return_train_score=False,\n",
    "    verbose=1,\n",
    "    n_jobs=-1\n",
    ")\n",
    "\n",
    "# 7. Print and save results\n",
    "print(\"Nested CV F1 scores:\", nested_cv_results['test_score'])\n",
    "print(\"Mean F1 score:\", np.mean(nested_cv_results['test_score']))\n",
    "print(\"STD F1 score:\", np.std(nested_cv_results['test_score']))\n",
    "print(\"Best parameters per fold:\")\n",
    "for i, model in enumerate(nested_cv_results['estimator']):\n",
    "    print(f\"Fold {i+1}: {model.best_params_}\")\n",
    "\n",
    "best_score_index = np.argmax(nested_cv_results['test_score'])\n",
    "best_model = nested_cv_results['estimator'][best_score_index]\n",
    "print(\"Parameters of the best overall model:\", best_model.best_params_)\n",
    "\n",
    "# Save the results\n",
    "joblib.dump(nested_cv_results, 'nested_cv_optuna_xgb.pkl')"
   ]
  },
  {
   "cell_type": "markdown",
   "id": "5d1aa519",
   "metadata": {},
   "source": [
    "Nu checken welk model de hoogste gemiddelde F1 score heeft en die retrainen op de hele train set en testen op de hold-out test set\n"
   ]
  },
  {
   "cell_type": "code",
   "execution_count": 39,
   "id": "143b39df-058a-4536-9e2a-963813ba46aa",
   "metadata": {},
   "outputs": [
    {
     "name": "stdout",
     "output_type": "stream",
     "text": [
      "Best XGBoost parameters: {'sampler': 'undersample', 'classifier__n_estimators': 400, 'classifier__learning_rate': 0.049102224538023785, 'classifier__max_depth': 15, 'classifier__min_child_weight': 3, 'classifier__subsample': 1.0, 'classifier__colsample_bytree': 0.6, 'classifier__gamma': 0.6000000000000001, 'classifier__reg_alpha': 0.07656858049254477, 'classifier__reg_lambda': 0.001905984978855973}\n",
      "\n",
      "XGBoost Test Results:\n",
      "              precision    recall  f1-score   support\n",
      "\n",
      "         0.0       0.82      0.57      0.67       157\n",
      "         1.0       0.25      0.52      0.34        42\n",
      "\n",
      "    accuracy                           0.56       199\n",
      "   macro avg       0.53      0.55      0.51       199\n",
      "weighted avg       0.70      0.56      0.60       199\n",
      "\n",
      "\n",
      "Test Set Performance Metrics Summary:\n",
      "         accuracy  precision   recall        f1   roc_auc\n",
      "XGBoost  0.562814   0.247191  0.52381  0.335878  0.537079\n"
     ]
    },
    {
     "data": {
      "image/png": "[encoded data removed]",
      "text/plain": [
       "<Figure size 1000x800 with 1 Axes>"
      ]
     },
     "metadata": {},
     "output_type": "display_data"
    },
    {
     "data": {
      "text/plain": [
       "['best_xgb_model.pkl']"
      ]
     },
     "execution_count": 39,
     "metadata": {},
     "output_type": "execute_result"
    }
   ],
   "source": [
    "import numpy as np\n",
    "import pandas as pd\n",
    "import matplotlib.pyplot as plt\n",
    "from sklearn.metrics import accuracy_score, precision_score, recall_score, f1_score, roc_auc_score, roc_curve, classification_report\n",
    "import joblib\n",
    "\n",
    "# Dictionary to store results\n",
    "test_results = {}\n",
    "\n",
    "# ----- XGBoost -----\n",
    "# First, identify what variable contains your XGBoost nested CV results\n",
    "# This could be named something like nested_cv_results, xgb_cv_results, etc.\n",
    "# Replace 'your_xgb_cv_variable' with your actual variable name\n",
    "xgb_cv_results = nested_cv_results  # Replace with your actual variable name\n",
    "\n",
    "# Get the best XGBoost model\n",
    "best_xgb_index = np.argmax(xgb_cv_results['test_score'])\n",
    "best_xgb_model = xgb_cv_results['estimator'][best_xgb_index]\n",
    "best_xgb_params = best_xgb_model.best_params_\n",
    "print(\"Best XGBoost parameters:\", best_xgb_params)\n",
    "\n",
    "# Create a new pipeline with these parameters\n",
    "import xgboost as xgb\n",
    "from sklearn.preprocessing import StandardScaler\n",
    "from imblearn.pipeline import Pipeline as ImbPipeline\n",
    "\n",
    "# Define your sampler map if not already defined\n",
    "sampler_map = {\n",
    "    'none': 'passthrough',\n",
    "    'undersample': RandomUnderSampler(random_state=42),\n",
    "    'smotetomek': SMOTETomek(random_state=42)\n",
    "}\n",
    "\n",
    "# Create pipeline\n",
    "xgb_pipeline = ImbPipeline([\n",
    "    ('sampler', sampler_map[best_xgb_params['sampler']] if 'sampler' in best_xgb_params else 'passthrough'),\n",
    "    ('scaler', StandardScaler()),\n",
    "    ('classifier', xgb.XGBClassifier(objective='binary:logistic', random_state=42))\n",
    "])\n",
    "\n",
    "# Set classifier parameters\n",
    "classifier_params = {k: v for k, v in best_xgb_params.items() if k.startswith('classifier__')}\n",
    "xgb_pipeline.set_params(**classifier_params)\n",
    "\n",
    "# Fit on the entire training data\n",
    "xgb_pipeline.fit(X_train, y_train)\n",
    "\n",
    "# Predict on test set\n",
    "y_pred_xgb = xgb_pipeline.predict(X_test)\n",
    "y_prob_xgb = xgb_pipeline.predict_proba(X_test)[:, 1]\n",
    "\n",
    "# Calculate metrics\n",
    "test_results['XGBoost'] = {\n",
    "    'accuracy': accuracy_score(y_test, y_pred_xgb),\n",
    "    'precision': precision_score(y_test, y_pred_xgb),\n",
    "    'recall': recall_score(y_test, y_pred_xgb),\n",
    "    'f1': f1_score(y_test, y_pred_xgb),\n",
    "    'roc_auc': roc_auc_score(y_test, y_prob_xgb)\n",
    "}\n",
    "\n",
    "print(\"\\nXGBoost Test Results:\")\n",
    "print(classification_report(y_test, y_pred_xgb))\n",
    "\n",
    "# Create a DataFrame to display results\n",
    "results_df = pd.DataFrame(test_results).T\n",
    "print(\"\\nTest Set Performance Metrics Summary:\")\n",
    "print(results_df)\n",
    "\n",
    "# Plot ROC curve for XGBoost\n",
    "plt.figure(figsize=(10, 8))\n",
    "fpr, tpr, _ = roc_curve(y_test, y_prob_xgb)\n",
    "plt.plot(fpr, tpr, label=f'XGBoost (AUC = {roc_auc_score(y_test, y_prob_xgb):.3f})')\n",
    "plt.plot([0, 1], [0, 1], 'k--')\n",
    "plt.xlabel('False Positive Rate')\n",
    "plt.ylabel('True Positive Rate')\n",
    "plt.title('ROC Curve on Test Set')\n",
    "plt.legend()\n",
    "plt.grid(True)\n",
    "plt.show()\n",
    "\n",
    "# Save the XGBoost model\n",
    "joblib.dump(xgb_pipeline, 'best_xgb_model.pkl')"
   ]
  }
 ],
 "metadata": {
  "kernelspec": {
   "display_name": "Python 3 (ipykernel)",
   "language": "python",
   "name": "python3"
  },
  "language_info": {
   "codemirror_mode": {
    "name": "ipython",
    "version": 3
   },
   "file_extension": ".py",
   "mimetype": "text/x-python",
   "name": "python",
   "nbconvert_exporter": "python",
   "pygments_lexer": "ipython3",
   "version": "3.12.4"
  }
 },
 "nbformat": 4,
 "nbformat_minor": 5
}
