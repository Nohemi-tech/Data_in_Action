{
 "cells": [
  {
   "cell_type": "code",
   "execution_count": 1,
   "id": "5976749e-ec41-4fe3-8fce-d3ea322688f8",
   "metadata": {},
   "outputs": [
    {
     "name": "stdout",
     "output_type": "stream",
     "text": [
      "   nomem_encr  ch22o_m ch22o001 ch22o002 ch22o003  ch22o004  ch22o005  \\\n",
      "0      800001   202211        1       61        1         2         3   \n",
      "1      800002   202211        1       45        1         4         3   \n",
      "2      800009   202211        1       67        1         2         2   \n",
      "3      800015   202211        1       60        1         3         3   \n",
      "4      800028   202211        1       72        0         3         3   \n",
      "\n",
      "  ch22o006 ch22o007 ch22o008  ... ch22o250 ch22o251 ch22o252 ch22o253  \\\n",
      "0        5        3           ...        2        4        2        4   \n",
      "1        9        8           ...        2        4        2        3   \n",
      "2                 7        7  ...        1        5        1        3   \n",
      "3        8        7           ...        1        5        5        5   \n",
      "4                          7  ...        1        5        3        3   \n",
      "\n",
      "  ch22o254    ch22o255  ch22o256    ch22o257  ch22o258 ch22o259  \n",
      "0        4  22-11-2022  17:07:13  22-11-2022  17:31:06     1433  \n",
      "1        3  11-11-2022  18:26:22  11-11-2022  18:42:55      993  \n",
      "2        3  28-11-2022  21:09:49  28-11-2022  21:17:26      457  \n",
      "3        1  13-11-2022  14:29:52  13-11-2022  14:35:51      359  \n",
      "4        3  07-11-2022  13:46:06  07-11-2022  13:52:03      357  \n",
      "\n",
      "[5 rows x 209 columns]\n"
     ]
    },
    {
     "name": "stderr",
     "output_type": "stream",
     "text": [
      "C:\\Users\\u1246538\\AppData\\Local\\Temp\\ipykernel_2528\\2925165898.py:11: DtypeWarning: Columns (3,4,5) have mixed types. Specify dtype option on import or set low_memory=False.\n",
      "  df_personality_2022 = pd.read_csv('C:/Users/u1246538/Downloads/liss-data/personality2022.csv', delimiter=';', on_bad_lines='skip')\n"
     ]
    }
   ],
   "source": [
    "import pandas as pd\n",
    "import os\n",
    "# List of datasets to merge\n",
    "import pandas as pd\n",
    "\n",
    "df_health_2022 = pd.read_csv('C:/Users/u1246538/Downloads/liss-data/health2022.csv', delimiter=';', on_bad_lines='skip')\n",
    "print(df_health_2022.head())\n",
    "df_health_2023 = pd.read_csv('C:/Users/u1246538/Downloads/liss-data/health2023.csv', delimiter=';', on_bad_lines='skip')\n",
    "df_socialmedia_2022 = pd.read_csv('C:/Users/u1246538/Downloads/liss-data/socialmedia2022.csv', delimiter=';', on_bad_lines='skip')\n",
    "df_religion_2022 = pd.read_csv('C:/Users/u1246538/Downloads/liss-data/religion2022.csv', delimiter=';', on_bad_lines='skip')\n",
    "df_personality_2022 = pd.read_csv('C:/Users/u1246538/Downloads/liss-data/personality2022.csv', delimiter=';', on_bad_lines='skip')\n",
    "df_snacking_2022 = pd.read_csv('C:/Users/u1246538/Downloads/liss-data/snacking2022.csv', delimiter=';', on_bad_lines='skip')\n",
    "df_background_2022 = pd.read_csv('C:/Users/u1246538/Downloads/liss-data/background2022.csv', delimiter=';', on_bad_lines='skip')\n",
    "df_background_2023 = pd.read_csv('C:/Users/u1246538/Downloads/liss-data/background2023.csv', delimiter=';', on_bad_lines='skip')\n",
    "df_politics_2022 = pd.read_csv('C:/Users/u1246538/Downloads/liss-data/politics2022.csv', delimiter=';', on_bad_lines='skip')\n",
    "   \n",
    "\n",
    "\n"
   ]
  },
  {
   "cell_type": "code",
   "execution_count": 2,
   "id": "174d06ca-ae28-47a7-9d9a-fdc6dca65e03",
   "metadata": {},
   "outputs": [
    {
     "name": "stdout",
     "output_type": "stream",
     "text": [
      "df_health_2022: (5832, 209)\n",
      "df_health_2023: (6058, 209)\n",
      "df_socialmedia_2022: (5884, 437)\n",
      "df_religion_2022: (6055, 69)\n",
      "df_personality_2022: (5836, 159)\n",
      "df_snacking_2022: (1128, 115)\n",
      "df_background_2022: (11260, 34)\n",
      "df_background_2023: (11824, 34)\n",
      "df_politics_2022: (6221, 221)\n"
     ]
    }
   ],
   "source": [
    "print(f\"df_health_2022: {df_health_2022.shape}\")\n",
    "print(f\"df_health_2023: {df_health_2023.shape}\")\n",
    "print(f\"df_socialmedia_2022: {df_socialmedia_2022.shape}\")\n",
    "print(f\"df_religion_2022: {df_religion_2022.shape}\")\n",
    "print(f\"df_personality_2022: {df_personality_2022.shape}\")\n",
    "print(f\"df_snacking_2022: {df_snacking_2022.shape}\")\n",
    "print(f\"df_background_2022: {df_background_2022.shape}\")\n",
    "print(f\"df_background_2023: {df_background_2023.shape}\")\n",
    "print(f\"df_politics_2022: {df_politics_2022.shape}\")\n"
   ]
  },
  {
   "cell_type": "code",
   "execution_count": 54,
   "id": "ea7fbe18-1fa0-469c-890e-b52fdbe8229e",
   "metadata": {},
   "outputs": [
    {
     "name": "stdout",
     "output_type": "stream",
     "text": [
      "  ch22o011 ch22o012 ch22o013 ch22o014 ch22o015 ch22o162  nomem_encr\n",
      "0        2        2        4        2        4        1      800001\n",
      "1        4        1        4        1        5        1      800002\n",
      "2        1        1        5        1        4        1      800009\n",
      "3        1        1        4        1        4        1      800015\n",
      "4        2        1        5        1        5        1      800028\n"
     ]
    }
   ],
   "source": [
    "# Extract specific columns from df_health_2022\n",
    "health22_columns = ['ch22o011', 'ch22o012', 'ch22o013', 'ch22o014', 'ch22o015', 'ch22o162', 'nomem_encr']\n",
    "df_selected_health22 = df_health_2022[health22_columns]\n",
    "\n",
    "# Display the first few rows of the extracted DataFrame\n",
    "print(df_selected_health22.head())\n",
    "# i take column ch22o167 out of the dataset. bc that column was mostly empty, most people do not use hallocigens."
   ]
  },
  {
   "cell_type": "code",
   "execution_count": 56,
   "id": "08148f52-e6fa-447d-b4e5-57a8808361d8",
   "metadata": {},
   "outputs": [
    {
     "name": "stdout",
     "output_type": "stream",
     "text": [
      "  ch23p011 ch23p012 ch23p013 ch23p014 ch23p015  nomem_encr\n",
      "0        3        1        4        3        4      800002\n",
      "1        1        1        5        2        4      800009\n",
      "2        1        1        4        1        3      800015\n",
      "3        2        1        4        1        4      800028\n",
      "4        6        4        2        4        3      800034\n"
     ]
    }
   ],
   "source": [
    "# Extract specific columns from df_health_2023\n",
    "#let op ik heb psychedelic columns of 2023 niet nodig.\n",
    "health23_columns= ['ch23p011', 'ch23p012', 'ch23p013', 'ch23p014', 'ch23p015', 'nomem_encr']\n",
    "df_selected_health23 = df_health_2023[health23_columns]\n",
    "\n",
    "# Display the first few rows of the extracted DataFrame\n",
    "print(df_selected_health23.head())\n"
   ]
  },
  {
   "cell_type": "code",
   "execution_count": 9,
   "id": "dc5029b9-5dd4-4073-bd2e-97c410e5534e",
   "metadata": {},
   "outputs": [
    {
     "name": "stdout",
     "output_type": "stream",
     "text": [
      "   nomem_encr cp22n020 cp22n021 cp22n022 cp22n023 cp22n024 cp22n025 cp22n026  \\\n",
      "0      800002        3        2        4        3        4        4        4   \n",
      "1      800009        4        1        4        4        5        2        5   \n",
      "2      800015        2        3        4        2        4        4        4   \n",
      "3      800028        3        2        3        2        4        3        4   \n",
      "4      800057        4        2        4        1        5        1        5   \n",
      "\n",
      "  cp22n027 cp22n028  ... cp22n125 cp22n126 cp22n127 cp22n128 cp22n129  \\\n",
      "0        3        4  ...        7        6        5        5        5   \n",
      "1        2        3  ...        4        4        3        6        5   \n",
      "2        1        4  ...        3        5        3        7        7   \n",
      "3        2        4  ...        1        5        4        5        7   \n",
      "4        4        4  ...        1        5        5        5        7   \n",
      "\n",
      "  cp22n130 cp22n131 cp22n132 cp22n133 cp22n134  \n",
      "0        6        6        5        5        3  \n",
      "1        4        7        6        3        4  \n",
      "2        7        7        7        1        3  \n",
      "3        5        6        6        5        5  \n",
      "4        6        6        7        5        6  \n",
      "\n",
      "[5 rows x 97 columns]\n"
     ]
    }
   ],
   "source": [
    "# Extract specific columns from df_personality_2022 ( extracted columns are: bigfive, self-esteem and values.geen optimism)\n",
    "target_columns_personality = ['nomem_encr']\n",
    "\n",
    "# Adding the specified ranges of columns\n",
    "target_columns_personality.extend([f'cp22n{i:03}' for i in range(20, 30)])  # cp22n020 to cp22n029\n",
    "target_columns_personality.extend([f'cp22n{i:03}' for i in range(30, 40)])  # cp22n030 to cp22n039\n",
    "target_columns_personality.extend([f'cp22n{i:03}' for i in range(40, 50)])  # cp22n040 to cp22n049\n",
    "target_columns_personality.extend([f'cp22n{i:03}' for i in range(50, 60)])  # cp22n050 to cp22n059\n",
    "target_columns_personality.extend([f'cp22n{i:03}' for i in range(60, 70)])  # cp22n060 to cp22n069\n",
    "target_columns_personality.extend([f'cp22n{i:03}' for i in range(70, 80)])  # cp22n070 to cp22n079\n",
    "target_columns_personality.extend([f'cp22n{i:03}' for i in range(99, 117)]) # cp22n099 to cp22n116\n",
    "target_columns_personality.extend([f'cp22n{i:03}' for i in range(117, 135)]) # cp22n117 to cp22n134\n",
    "\n",
    "# Create a new DataFrame with the selected columns\n",
    "df_selected_personality22 = df_personality_2022[target_columns_personality]\n",
    "\n",
    "# Display the first few rows of the extracted DataFrame\n",
    "print(df_selected_personality22.head())\n"
   ]
  },
  {
   "cell_type": "code",
   "execution_count": 11,
   "id": "9247e5e8-24a6-43a8-ac8d-6c80e216157e",
   "metadata": {},
   "outputs": [
    {
     "name": "stdout",
     "output_type": "stream",
     "text": [
      "  uy22a016 uy22a015  nomem_encr\n",
      "0        1        1      800015\n",
      "1        4        2      800100\n",
      "2        1        4      800201\n",
      "3        2        3      800215\n",
      "4        2        1      800228\n"
     ]
    }
   ],
   "source": [
    "# Extract specific columns from df_snacking_2022\n",
    "target_columns_snacking = ['uy22a016', 'uy22a015', 'nomem_encr']\n",
    "\n",
    "# Create a new DataFrame with the selected columns\n",
    "df_selected_snacking22 = df_snacking_2022[target_columns_snacking]\n",
    "\n",
    "# Display the first few rows of the extracted DataFrame\n",
    "print(df_selected_snacking22.head())\n"
   ]
  },
  {
   "cell_type": "code",
   "execution_count": 13,
   "id": "c4b36f3e-af2e-4380-8369-e97c1b7c7723",
   "metadata": {},
   "outputs": [
    {
     "name": "stdout",
     "output_type": "stream",
     "text": [
      "   cr22o143 cr22o144  nomem_encr\n",
      "0         2               800001\n",
      "1         1        5      800002\n",
      "2         1        2      800009\n",
      "3         2               800015\n",
      "4         2               800028\n"
     ]
    }
   ],
   "source": [
    "# Extract specific columns from df_religion_2022\n",
    "target_columns_religion = ['cr22o143', 'cr22o144', 'nomem_encr']\n",
    "\n",
    "# Create a new DataFrame with the selected columns\n",
    "df_selected_religion22 = df_religion_2022[target_columns_religion]\n",
    "\n",
    "# Display the first few rows of the extracted DataFrame\n",
    "print(df_selected_religion22.head())\n"
   ]
  },
  {
   "cell_type": "code",
   "execution_count": 15,
   "id": "fe2c7534-014a-4998-b855-6985eb74848e",
   "metadata": {},
   "outputs": [
    {
     "name": "stdout",
     "output_type": "stream",
     "text": [
      "   nomem_encr cs22o439 cs22o487 cs22o280 cs22o436 cs22o472 cs22o473 cs22o474  \\\n",
      "0      800001        0        0        3        3        5        5        2   \n",
      "1      800002       ,5        0        2        6        3        5        5   \n",
      "2      800009        5        1        1        6        1        5        5   \n",
      "3      800015        2        0        0        1        5        5        5   \n",
      "4      800028        0        0        0        1        5        5        5   \n",
      "\n",
      "  cs22o577 cs22o578 cs22o579 cs22o580 cs22o581  \n",
      "0        5        5        5        2        5  \n",
      "1        4        5        5        2        5  \n",
      "2        2        5        5        1        4  \n",
      "3        5        5        5        2        5  \n",
      "4        5        5        5        4        4  \n"
     ]
    }
   ],
   "source": [
    "# Extract specific columns from df_socialmedia_2022\n",
    "target_columns_socialmedia = [\n",
    "    'nomem_encr', \n",
    "    'cs22o439', \n",
    "    'cs22o487', \n",
    "    'cs22o280', \n",
    "    'cs22o436', \n",
    "    'cs22o472', \n",
    "    'cs22o473', \n",
    "    'cs22o474', \n",
    "    'cs22o577', \n",
    "    'cs22o578', \n",
    "    'cs22o579', \n",
    "    'cs22o580', \n",
    "    'cs22o581'\n",
    "]\n",
    "\n",
    "# Create a new DataFrame with the selected columns\n",
    "df_selected_socialmedia22 = df_socialmedia_2022[target_columns_socialmedia]\n",
    "\n",
    "# Display the first few rows of the extracted DataFrame\n",
    "print(df_selected_socialmedia22.head())\n"
   ]
  },
  {
   "cell_type": "code",
   "execution_count": 68,
   "id": "20f31a85-2c3f-4289-afd4-8d45e877eb9f",
   "metadata": {},
   "outputs": [
    {
     "name": "stdout",
     "output_type": "stream",
     "text": [
      "  cv23o012  nomem_encr\n",
      "0        2      800001\n",
      "1        2      800002\n",
      "2        1      800009\n",
      "3        1      800015\n",
      "4        1      800028\n"
     ]
    }
   ],
   "source": [
    "# Extract specific columns from df_politics_2022\n",
    "target_columns_politics = [ \n",
    "    'cv23o012', \n",
    "    'nomem_encr'\n",
    "]\n",
    "\n",
    "# Create a new DataFrame with the selected columns\n",
    "df_selected_politics22 = df_politics_2022[target_columns_politics]\n",
    "\n",
    "# Display the first few rows of the extracted DataFrame\n",
    "print(df_selected_politics22.head())"
   ]
  },
  {
   "cell_type": "code",
   "execution_count": 70,
   "id": "430afbbc-f47f-4de1-acbc-7a08b1018864",
   "metadata": {},
   "outputs": [
    {
     "name": "stdout",
     "output_type": "stream",
     "text": [
      "   nomem_encr  geslacht  gender  gebjaar  leeftijd  lftdcat lftdhhh  burgstat  \\\n",
      "0      800001         1       1     1961        61        6      61         5   \n",
      "1      800002         1       1     1976        45        5      45         1   \n",
      "2      800009         1     999     1955        67        7      67         1   \n",
      "3      800015         1     999     1962        60        6      60         1   \n",
      "4      800028         1       1     1950        72        7      72         1   \n",
      "\n",
      "   woonvorm herkomstgroep oplcat         brutohh_f nettohh_f  brutoink  \\\n",
      "0         2           201      5  3648,10832897175      2651       -13   \n",
      "1         3             0      4              6300      3960      4250   \n",
      "2         2             0      5  8451,61333892468      5800       -13   \n",
      "3         3           102      6  4813,45422891305      3350      4519   \n",
      "4         2             0      3   4582,6727773595      3600       -13   \n",
      "\n",
      "         brutoink_f nettoink nettoink_f  \n",
      "0  2247,01636189637     1588       1588  \n",
      "1              4250     2700       2700  \n",
      "2  6487,19108758918     4400       4400  \n",
      "3              4519     3100       3100  \n",
      "4  3432,79404639575     2600       2600  \n",
      "   nomem_encr  geslacht  gender  gebjaar  leeftijd  lftdcat lftdhhh burgstat  \\\n",
      "0      800001         1       1     1961        62        6      62        5   \n",
      "1      800002         1       1     1976        46        5      46        1   \n",
      "2      800009         1     999     1955        68        7      68        1   \n",
      "3      800015         1     999     1962        61        6      61        1   \n",
      "4      800028         1       1     1950        73        7      73        1   \n",
      "\n",
      "   woonvorm herkomstgroep oplcat    brutohh_f nettohh_f brutoink   brutoink_f  \\\n",
      "0         2           201      5  5501,786713      3709      -13  3804,979767   \n",
      "1         3             0      4         7040      4240     5000         5000   \n",
      "2         2             0      5  8451,613339      5800      -13  6487,191088   \n",
      "3         3           102      6  4973,454229      3492     4679         4679   \n",
      "4         2             0      3  4582,672777      3600      -13  3432,794046   \n",
      "\n",
      "  nettoink nettoink_f  \n",
      "0     2450       2450  \n",
      "1     3000       3000  \n",
      "2     4400       4400  \n",
      "3     3242       3242  \n",
      "4     2600       2600  \n"
     ]
    }
   ],
   "source": [
    "# Extract specific columns from df_background_2022\n",
    "target_columns_background = [\n",
    "    'nomem_encr', \n",
    "    'geslacht', \n",
    "    'gender', \n",
    "    'gebjaar', \n",
    "    'leeftijd', \n",
    "    'lftdcat', \n",
    "    'lftdhhh', \n",
    "    'burgstat', \n",
    "    'woonvorm', \n",
    "    'herkomstgroep', \n",
    "    'oplcat', \n",
    "    'brutohh_f', \n",
    "    'nettohh_f', \n",
    "    'brutoink', \n",
    "    'brutoink_f', \n",
    "    'nettoink', \n",
    "    'nettoink_f'\n",
    "]\n",
    "\n",
    "# Create a new DataFrame with the selected columns\n",
    "df_selected_background22 = df_background_2022[target_columns_background]\n",
    "\n",
    "# Display the first few rows of the extracted DataFrame\n",
    "print(df_selected_background22.head())\n",
    "\n",
    "# Create a new DataFrame with the selected columns\n",
    "df_selected_background23 = df_background_2023[target_columns_background]\n",
    "\n",
    "# Display the first few rows of the extracted DataFrame\n",
    "print(df_selected_background23.head())\n"
   ]
  },
  {
   "cell_type": "code",
   "execution_count": 72,
   "id": "ceb821cb-d010-4684-85f3-9b8370cb78b4",
   "metadata": {},
   "outputs": [
    {
     "name": "stdout",
     "output_type": "stream",
     "text": [
      "  ch22o011 ch22o012 ch22o013 ch22o014 ch22o015 ch22o162  nomem_encr cp22n020  \\\n",
      "0        2        2        4        2        4        1      800001      NaN   \n",
      "1        4        1        4        1        5        1      800002        3   \n",
      "2        1        1        5        1        4        1      800009        4   \n",
      "3        1        1        4        1        4        1      800015        2   \n",
      "4        2        1        5        1        5        1      800028        3   \n",
      "\n",
      "  cp22n021 cp22n022  ... burgstat woonvorm herkomstgroep oplcat  \\\n",
      "0      NaN      NaN  ...      5.0      2.0           201      5   \n",
      "1        2        4  ...      1.0      3.0             0      4   \n",
      "2        1        4  ...      1.0      2.0             0      5   \n",
      "3        3        4  ...      1.0      3.0           102      6   \n",
      "4        2        3  ...      1.0      2.0             0      3   \n",
      "\n",
      "          brutohh_f nettohh_f brutoink        brutoink_f nettoink nettoink_f  \n",
      "0  3648,10832897175      2651    -13.0  2247,01636189637     1588       1588  \n",
      "1              6300      3960   4250.0              4250     2700       2700  \n",
      "2  8451,61333892468      5800    -13.0  6487,19108758918     4400       4400  \n",
      "3  4813,45422891305      3350   4519.0              4519     3100       3100  \n",
      "4   4582,6727773595      3600    -13.0  3432,79404639575     2600       2600  \n",
      "\n",
      "[5 rows x 136 columns]\n"
     ]
    }
   ],
   "source": [
    "import pandas as pd\n",
    "\n",
    "# Merge the DataFrames on 'nomem_encr'\n",
    "merged_df = df_selected_health22\n",
    "\n",
    "# Sequentially merge each DataFrame on 'nomem_encr'\n",
    "merged_df = merged_df.merge(df_selected_personality22, on='nomem_encr', how='outer')\n",
    "merged_df = merged_df.merge(df_selected_snacking22, on='nomem_encr', how='outer')\n",
    "merged_df = merged_df.merge(df_selected_religion22, on='nomem_encr', how='outer')\n",
    "merged_df = merged_df.merge(df_selected_socialmedia22, on='nomem_encr', how='outer')\n",
    "merged_df = merged_df.merge(df_selected_politics22, on='nomem_encr', how='outer')\n",
    "merged_df = merged_df.merge(df_selected_background22, on='nomem_encr', how='outer')\n",
    "\n",
    "# Display the first few rows of the merged DataFrame\n",
    "print(merged_df.head())\n",
    "\n",
    "\n",
    "\n",
    "\n",
    "\n",
    "\n"
   ]
  },
  {
   "cell_type": "code",
   "execution_count": 74,
   "id": "7db508c3-28d9-4856-aaa0-a5054308285b",
   "metadata": {},
   "outputs": [
    {
     "name": "stdout",
     "output_type": "stream",
     "text": [
      "  ch22o011 ch22o012 ch22o013 ch22o014 ch22o015 ch22o162  nomem_encr cp22n020  \\\n",
      "0        2        2        4        2        4        1      800001      NaN   \n",
      "1        4        1        4        1        5        1      800002        3   \n",
      "2        1        1        5        1        4        1      800009        4   \n",
      "3        1        1        4        1        4        1      800015        2   \n",
      "4        2        1        5        1        5        1      800028        3   \n",
      "\n",
      "  cp22n021 cp22n022  ... burgstat woonvorm herkomstgroep oplcat  \\\n",
      "0      NaN      NaN  ...      5.0      2.0           201      5   \n",
      "1        2        4  ...      1.0      3.0             0      4   \n",
      "2        1        4  ...      1.0      2.0             0      5   \n",
      "3        3        4  ...      1.0      3.0           102      6   \n",
      "4        2        3  ...      1.0      2.0             0      3   \n",
      "\n",
      "          brutohh_f nettohh_f brutoink        brutoink_f nettoink nettoink_f  \n",
      "0  3648,10832897175      2651    -13.0  2247,01636189637     1588       1588  \n",
      "1              6300      3960   4250.0              4250     2700       2700  \n",
      "2  8451,61333892468      5800    -13.0  6487,19108758918     4400       4400  \n",
      "3  4813,45422891305      3350   4519.0              4519     3100       3100  \n",
      "4   4582,6727773595      3600    -13.0  3432,79404639575     2600       2600  \n",
      "\n",
      "[5 rows x 136 columns]\n",
      "(11394, 136)\n"
     ]
    }
   ],
   "source": [
    "print(merged_df.head())  # Display the first few rows\n",
    "print(merged_df.shape)    # Display the number of rows and columns\n",
    "\n"
   ]
  },
  {
   "cell_type": "code",
   "execution_count": 76,
   "id": "5c61a92d-a2e4-4793-9546-2f1920a01ef8",
   "metadata": {},
   "outputs": [
    {
     "name": "stdout",
     "output_type": "stream",
     "text": [
      "Number of duplicate rows: 0\n",
      "Missing values in each column:\n",
      "ch22o011      5562\n",
      "ch22o012      5562\n",
      "ch22o013      5562\n",
      "ch22o014      5562\n",
      "ch22o015      5562\n",
      "              ... \n",
      "nettohh_f      134\n",
      "brutoink       134\n",
      "brutoink_f     134\n",
      "nettoink       134\n",
      "nettoink_f     134\n",
      "Length: 135, dtype: int64\n",
      "Total number of missing values in the DataFrame: 671587\n"
     ]
    }
   ],
   "source": [
    "# Check for duplicates\n",
    "duplicates = merged_df.duplicated()\n",
    "\n",
    "# Count the number of duplicate rows\n",
    "num_duplicates = duplicates.sum()\n",
    "\n",
    "# Display the number of duplicates\n",
    "print(f\"Number of duplicate rows: {num_duplicates}\")\n",
    "\n",
    "# Check for missing values in the DataFrame\n",
    "missing_values = merged_df.isnull().sum()\n",
    "\n",
    "# Display the number of missing values for each column\n",
    "print(\"Missing values in each column:\")\n",
    "print(missing_values[missing_values > 0])  # Only show columns with missing values\n",
    "# Total number of missing values in the DataFrame\n",
    "total_missing = missing_values.sum()\n",
    "print(f\"Total number of missing values in the DataFrame: {total_missing}\")\n",
    "# Drop rows with any missing values\n",
    "merged_df = merged_df.dropna()\n",
    "\n"
   ]
  },
  {
   "cell_type": "code",
   "execution_count": 96,
   "id": "cb13b272-a742-4337-9aaf-1d5bbcea2682",
   "metadata": {},
   "outputs": [
    {
     "name": "stdout",
     "output_type": "stream",
     "text": [
      "After dropping missing values, the DataFrame has 995 rows and 136 columns.\n",
      "Cleaned data saved to: C:/Users/u1246538/Downloads/liss-data/merged_health_data_2022_cleaned.csv\n"
     ]
    }
   ],
   "source": [
    "# Drop rows with any missing values\n",
    "merged_df = merged_df.dropna()\n",
    "\n",
    "# Get the shape of the cleaned DataFrame\n",
    "num_rows, num_columns = merged_df.shape\n",
    "print(f\"After dropping missing values, the DataFrame has {num_rows} rows and {num_columns} columns.\")\n",
    "\n",
    "# Define the file path where you want to save the cleaned data\n",
    "output_file_path = 'C:/Users/u1246538/Downloads/liss-data/merged_health_data_2022_cleaned.csv'\n",
    "\n",
    "# Save the cleaned DataFrame to a CSV file\n",
    "merged_df.to_csv(output_file_path, index=False)\n",
    "\n",
    "# Confirm that the data was saved successfully\n",
    "print(f\"Cleaned data saved to: {output_file_path}\")\n"
   ]
  },
  {
   "cell_type": "code",
   "execution_count": 86,
   "id": "878a8d06-3442-4964-9595-ca64c08ae71d",
   "metadata": {},
   "outputs": [
    {
     "name": "stdout",
     "output_type": "stream",
     "text": [
      "\n",
      "Shape of the merged DataFrame:\n",
      "(12421, 136)\n",
      "\n",
      "First few rows of the merged DataFrame:\n",
      "  ch23p011 ch23p012 ch23p013 ch23p014 ch23p015  nomem_encr ch22o162 cp22n020  \\\n",
      "0      NaN      NaN      NaN      NaN      NaN      800001        1      NaN   \n",
      "1        3        1        4        3        4      800002        1        3   \n",
      "2        1        1        5        2        4      800009        1        4   \n",
      "3        1        1        4        1        3      800015        1        2   \n",
      "4        2        1        4        1        4      800028        1        3   \n",
      "\n",
      "  cp22n021 cp22n022  ... burgstat woonvorm herkomstgroep oplcat  \\\n",
      "0      NaN      NaN  ...      5.0      2.0           201      5   \n",
      "1        2        4  ...      1.0      3.0             0      4   \n",
      "2        1        4  ...      1.0      2.0             0      5   \n",
      "3        3        4  ...      1.0      3.0           102      6   \n",
      "4        2        3  ...      1.0      2.0             0      3   \n",
      "\n",
      "          brutohh_f nettohh_f brutoink        brutoink_f nettoink nettoink_f  \n",
      "0  3648,10832897175      2651    -13.0  2247,01636189637     1588       1588  \n",
      "1              6300      3960   4250.0              4250     2700       2700  \n",
      "2  8451,61333892468      5800    -13.0  6487,19108758918     4400       4400  \n",
      "3  4813,45422891305      3350   4519.0              4519     3100       3100  \n",
      "4   4582,6727773595      3600    -13.0  3432,79404639575     2600       2600  \n",
      "\n",
      "[5 rows x 136 columns]\n"
     ]
    }
   ],
   "source": [
    "import pandas as pd\n",
    "\n",
    "# let op eerst heb ik de datasets pd.concat gedaan. hierddoor kreeg ik in de merged dataset 5 kollomen van nomem_encr. concat zet de kollomen achter elkaar maar merge join ze op nomem_encr en dan heb ik 1 kolom van nomem_encr\n",
    "\n",
    "# Extract the 'nomem_encr' and 'ch22o162' column from df_selected_health22\n",
    "df_health22_ch22o162 = df_selected_health22[['nomem_encr', 'ch22o162']]\n",
    "\n",
    "# Start by merging df_selected_health23 with 'ch22o162' from df_selected_health22\n",
    "merged_df_2023 = df_selected_health23.merge(df_health22_ch22o162, on='nomem_encr', how='outer')\n",
    "\n",
    "# Sequentially merge the other DataFrames on 'nomem_encr'\n",
    "merged_df_2023 = merged_df_2023.merge(df_selected_personality22, on='nomem_encr', how='outer')\n",
    "merged_df_2023 = merged_df_2023.merge(df_selected_snacking22, on='nomem_encr', how='outer')\n",
    "merged_df_2023 = merged_df_2023.merge(df_selected_religion22, on='nomem_encr', how='outer')\n",
    "merged_df_2023 = merged_df_2023.merge(df_selected_socialmedia22, on='nomem_encr', how='outer')\n",
    "merged_df_2023 = merged_df_2023.merge(df_selected_politics22, on='nomem_encr', how='outer')\n",
    "merged_df_2023 = merged_df_2023.merge(df_selected_background22, on='nomem_encr', how='outer')\n",
    "\n",
    "# Display the shape of the merged DataFrame\n",
    "print(\"\\nShape of the merged DataFrame:\")\n",
    "print(merged_df_2023.shape)\n",
    "\n",
    "# Display the first few rows of the merged DataFrame\n",
    "print(\"\\nFirst few rows of the merged DataFrame:\")\n",
    "print(merged_df_2023.head())\n",
    "\n",
    "\n"
   ]
  },
  {
   "cell_type": "code",
   "execution_count": 92,
   "id": "75dbba11-0851-499c-8f20-110a64e00cb4",
   "metadata": {},
   "outputs": [
    {
     "name": "stdout",
     "output_type": "stream",
     "text": [
      "\n",
      "Shape of the cleaned merged DataFrame (2023):\n",
      "(895, 136)\n",
      "\n",
      "Missing values per column before dropping rows:\n",
      "ch23p011      0\n",
      "ch23p012      0\n",
      "ch23p013      0\n",
      "ch23p014      0\n",
      "ch23p015      0\n",
      "             ..\n",
      "nettohh_f     0\n",
      "brutoink      0\n",
      "brutoink_f    0\n",
      "nettoink      0\n",
      "nettoink_f    0\n",
      "Length: 136, dtype: int64\n",
      "\n",
      "First few rows of the cleaned merged DataFrame (2023):\n",
      "   ch23p011 ch23p012 ch23p013 ch23p014 ch23p015  nomem_encr ch22o162 cp22n020  \\\n",
      "3         1        1        4        1        3      800015        1        2   \n",
      "12        1        1        6        1        1      800100        1        3   \n",
      "27        1        1        4        3        2      800201        1        4   \n",
      "33        1        1        4        1        3      800228        1        3   \n",
      "45        3        1        5        1        4      800392        1        4   \n",
      "\n",
      "   cp22n021 cp22n022  ... burgstat woonvorm herkomstgroep oplcat  \\\n",
      "3         3        4  ...      1.0      3.0           102      6   \n",
      "12        4        4  ...      1.0      3.0           102      4   \n",
      "27        2        4  ...      1.0      2.0             0      4   \n",
      "33        2        2  ...      1.0      2.0             0      6   \n",
      "45        3        2  ...      1.0      3.0             0      4   \n",
      "\n",
      "           brutohh_f nettohh_f brutoink brutoink_f nettoink nettoink_f  \n",
      "3   4813,45422891305      3350   4519.0       4519     3100       3100  \n",
      "12              3845      3330   2000.0       2000     1800       1800  \n",
      "27              4600      3850   2200.0       2200     1900       1900  \n",
      "33   6661,8642040255      4540   4800.0       4800     3000       3000  \n",
      "45              5994      4083   3294.0       3294     2183       2183  \n",
      "\n",
      "[5 rows x 136 columns]\n"
     ]
    }
   ],
   "source": [
    "# Drop duplicates if any\n",
    "merged_df_2023 = merged_df_2023.drop_duplicates()\n",
    "\n",
    "# Drop rows with any missing values (NaN)\n",
    "merged_df_2023_cleaned = merged_df_2023.dropna()\n",
    "\n",
    "# Display the shape of the cleaned merged DataFrame\n",
    "print(\"\\nShape of the cleaned merged DataFrame (2023):\")\n",
    "print(merged_df_2023_cleaned.shape)\n",
    "\n",
    "# Optionally, you can also check the missing values count before dropping\n",
    "print(\"\\nMissing values per column before dropping rows:\")\n",
    "print(merged_df_2023.isnull().sum())\n",
    "\n",
    "# Optionally, display the first few rows of the cleaned DataFrame\n",
    "print(\"\\nFirst few rows of the cleaned merged DataFrame (2023):\")\n",
    "print(merged_df_2023_cleaned.head())\n"
   ]
  },
  {
   "cell_type": "code",
   "execution_count": 98,
   "id": "eae26f8c-b31f-42e1-afc9-5d914f99a5a5",
   "metadata": {},
   "outputs": [
    {
     "name": "stdout",
     "output_type": "stream",
     "text": [
      "Merged dataset has been saved successfully.\n"
     ]
    }
   ],
   "source": [
    "# Save the cleaned merged dataset to a CSV file\n",
    "merged_df_2023_cleaned.to_csv('merged_df_2023_cleaned.csv', index=False)\n",
    "\n",
    "# Optionally, you can save the original merged dataset (before dropping rows with missing values) as well\n",
    "#merged_df_2023.to_csv('merged_df_2023.csv', index=False)\n",
    "\n",
    "print(\"Merged dataset has been saved successfully.\")\n"
   ]
  },
  {
   "cell_type": "code",
   "execution_count": null,
   "id": "e29a6294-d87f-444e-859e-6af44a79977d",
   "metadata": {},
   "outputs": [],
   "source": []
  }
 ],
 "metadata": {
  "kernelspec": {
   "display_name": "Python 3 (ipykernel)",
   "language": "python",
   "name": "python3"
  },
  "language_info": {
   "codemirror_mode": {
    "name": "ipython",
    "version": 3
   },
   "file_extension": ".py",
   "mimetype": "text/x-python",
   "name": "python",
   "nbconvert_exporter": "python",
   "pygments_lexer": "ipython3",
   "version": "3.12.4"
  }
 },
 "nbformat": 4,
 "nbformat_minor": 5
}
