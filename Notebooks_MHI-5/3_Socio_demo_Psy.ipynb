{
 "cells": [
  {
   "cell_type": "code",
   "execution_count": null,
   "id": "f5048794-66ad-40fb-975e-d645f49b04d6",
   "metadata": {},
   "outputs": [],
   "source": [
    "pip install optuna-integration[sklearn]"
   ]
  },
  {
   "cell_type": "code",
   "execution_count": 3,
   "id": "4730fc8c-203e-4b67-8090-af86004d5dcc",
   "metadata": {},
   "outputs": [
    {
     "name": "stdout",
     "output_type": "stream",
     "text": [
      "<class 'pandas.core.frame.DataFrame'>\n",
      "RangeIndex: 995 entries, 0 to 994\n",
      "Data columns (total 26 columns):\n",
      " #   Column                        Non-Null Count  Dtype  \n",
      "---  ------                        --------------  -----  \n",
      " 0   age                           995 non-null    float64\n",
      " 1   gender                        995 non-null    int64  \n",
      " 2   sex                           995 non-null    float64\n",
      " 3   education                     993 non-null    float64\n",
      " 4   Employment_status             995 non-null    int64  \n",
      " 5   Personal_Net_Income_Category  993 non-null    float64\n",
      " 6   Ethnic_Background             961 non-null    float64\n",
      " 7   living_arrangement            995 non-null    float64\n",
      " 8   marital_status                995 non-null    float64\n",
      " 9   hours_on_social_media         995 non-null    float64\n",
      " 10  loneliness_score              995 non-null    int64  \n",
      " 11  social_media_frequency        986 non-null    float64\n",
      " 12  emotional_stability           995 non-null    float64\n",
      " 13  intellect_imagination         995 non-null    float64\n",
      " 14  conscientiousness             995 non-null    float64\n",
      " 15  agreeableness                 995 non-null    float64\n",
      " 16  extraversion                  995 non-null    float64\n",
      " 17  self_esteem                   994 non-null    float64\n",
      " 18  composite_values              994 non-null    float64\n",
      " 19  mhi5_class_2022               994 non-null    float64\n",
      " 20  gender.1                      995 non-null    int64  \n",
      " 21  Religion                      218 non-null    float64\n",
      " 22  Religious_Membership          995 non-null    float64\n",
      " 23  political_interest            980 non-null    float64\n",
      " 24  mhi5_std_score_2022           994 non-null    float64\n",
      " 25  nomem_encr                    995 non-null    int64  \n",
      "dtypes: float64(21), int64(5)\n",
      "memory usage: 202.2 KB\n"
     ]
    }
   ],
   "source": [
    "import pandas as pd\n",
    "# Load dataset\n",
    "df = pd.read_csv(\"socio_demo_psychology.csv\")\n",
    "\n",
    "df.info()"
   ]
  },
  {
   "cell_type": "code",
   "execution_count": 7,
   "id": "aecb9058-805f-4a54-b9d5-976c01a3ccc8",
   "metadata": {},
   "outputs": [
    {
     "name": "stdout",
     "output_type": "stream",
     "text": [
      "age                             0\n",
      "sex                             0\n",
      "education                       2\n",
      "Employment_status               0\n",
      "Personal_Net_Income_Category    2\n",
      "living_arrangement              0\n",
      "marital_status                  0\n",
      "hours_on_social_media           0\n",
      "loneliness_score                0\n",
      "emotional_stability             0\n",
      "intellect_imagination           0\n",
      "conscientiousness               0\n",
      "agreeableness                   0\n",
      "extraversion                    0\n",
      "self_esteem                     1\n",
      "composite_values                1\n",
      "dtype: int64\n",
      "---------------------------------------------------------------------\n",
      "1\n",
      "float64\n"
     ]
    }
   ],
   "source": [
    "# Define the target variable\n",
    "target_column = ['mhi5_class_2022']\n",
    "\n",
    "# Columns that are inside blocks but MAY only be needed for error analysis\n",
    "possible_error_analysis_columns = ['gender', 'Religion', 'Religious_Membership', 'political_interest','mhi5_std_score_2022','gender.1', 'Ethnic_Background', 'social_media_frequency', 'nomem_encr']\n",
    "\n",
    "# Full list of extra columns\n",
    "keep_columns = target_column + possible_error_analysis_columns  # ✅ Make sure to define this!\n",
    "\n",
    "# Separate features and target\n",
    "X = df.drop(columns=keep_columns)  # Drop target + uncertain columns for training\n",
    "y = df[target_column[0]]  # Target variable\n",
    "\n",
    "#make X and y columns align\n",
    "X= X.reset_index(drop=True)\n",
    "y= y.reset_index(drop=True)\n",
    "\n",
    "print(X.isna().sum()) \n",
    "\n",
    "print(\"---------------------------------------------------------------------\")\n",
    "print(y.isna().sum())\n",
    "print(y.dtype)"
   ]
  },
  {
   "cell_type": "code",
   "execution_count": 11,
   "id": "eaac905d-91ee-4413-aa33-7c3637bff544",
   "metadata": {},
   "outputs": [
    {
     "name": "stdout",
     "output_type": "stream",
     "text": [
      "education                       0\n",
      "Personal_Net_Income_Category    0\n",
      "self_esteem                     0\n",
      "composite_values                0\n",
      "dtype: int64\n"
     ]
    }
   ],
   "source": [
    "from sklearn.impute import SimpleImputer\n",
    "\n",
    "# Identify real columns in X that have missing values\n",
    "columns_with_na = X.columns[X.isna().any()].tolist()\n",
    "\n",
    "# Impute only those\n",
    "imputer = SimpleImputer(strategy='mean')\n",
    "X[columns_with_na] = imputer.fit_transform(X[columns_with_na])\n",
    "\n",
    "# Confirm no missing left\n",
    "print(X[columns_with_na].isna().sum())\n",
    "\n"
   ]
  },
  {
   "cell_type": "code",
   "execution_count": 13,
   "id": "f597bcea-7e9e-4799-a382-285d2d51aac5",
   "metadata": {},
   "outputs": [
    {
     "name": "stdout",
     "output_type": "stream",
     "text": [
      "<class 'pandas.core.frame.DataFrame'>\n",
      "RangeIndex: 995 entries, 0 to 994\n",
      "Data columns (total 16 columns):\n",
      " #   Column                        Non-Null Count  Dtype  \n",
      "---  ------                        --------------  -----  \n",
      " 0   age                           995 non-null    float64\n",
      " 1   sex                           995 non-null    float64\n",
      " 2   education                     995 non-null    float64\n",
      " 3   Employment_status             995 non-null    int64  \n",
      " 4   Personal_Net_Income_Category  995 non-null    float64\n",
      " 5   living_arrangement            995 non-null    float64\n",
      " 6   marital_status                995 non-null    float64\n",
      " 7   hours_on_social_media         995 non-null    float64\n",
      " 8   loneliness_score              995 non-null    int64  \n",
      " 9   emotional_stability           995 non-null    float64\n",
      " 10  intellect_imagination         995 non-null    float64\n",
      " 11  conscientiousness             995 non-null    float64\n",
      " 12  agreeableness                 995 non-null    float64\n",
      " 13  extraversion                  995 non-null    float64\n",
      " 14  self_esteem                   995 non-null    float64\n",
      " 15  composite_values              995 non-null    float64\n",
      "dtypes: float64(14), int64(2)\n",
      "memory usage: 124.5 KB\n",
      "--------------------------\n",
      "<class 'pandas.core.series.Series'>\n",
      "RangeIndex: 995 entries, 0 to 994\n",
      "Series name: mhi5_class_2022\n",
      "Non-Null Count  Dtype  \n",
      "--------------  -----  \n",
      "994 non-null    float64\n",
      "dtypes: float64(1)\n",
      "memory usage: 7.9 KB\n"
     ]
    }
   ],
   "source": [
    "# print\n",
    "X.info()\n",
    "\n",
    "print(\"--------------------------\")\n",
    "y.info()"
   ]
  },
  {
   "cell_type": "code",
   "execution_count": null,
   "id": "72c9dffa-a5f3-495d-bc7a-8328b288913a",
   "metadata": {},
   "outputs": [],
   "source": []
  }
 ],
 "metadata": {
  "kernelspec": {
   "display_name": "Python 3 (ipykernel)",
   "language": "python",
   "name": "python3"
  },
  "language_info": {
   "codemirror_mode": {
    "name": "ipython",
    "version": 3
   },
   "file_extension": ".py",
   "mimetype": "text/x-python",
   "name": "python",
   "nbconvert_exporter": "python",
   "pygments_lexer": "ipython3",
   "version": "3.12.4"
  }
 },
 "nbformat": 4,
 "nbformat_minor": 5
}
