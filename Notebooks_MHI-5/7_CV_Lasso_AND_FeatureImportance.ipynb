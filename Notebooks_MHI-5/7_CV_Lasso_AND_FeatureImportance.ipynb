{
 "cells": [
  {
   "cell_type": "code",
   "execution_count": 1,
   "id": "b4c4018d-3044-4d3c-8054-18224659b80b",
   "metadata": {},
   "outputs": [],
   "source": [
    "import pandas as pd\n",
    "# Define the target variable\n",
    "target_column = ['mhi5_class_2022']\n",
    "\n",
    "# Load dataset\n",
    "df_1 = pd.read_csv(\"selected_features_rf.csv\")  \n",
    "df_2 = pd.read_csv(\"selected_features_lasso.csv\")\n",
    "# Separate features and target\n",
    "X = df_1 + df_2  \n",
    "y = target_column  # Target variable"
   ]
  },
  {
   "cell_type": "code",
   "execution_count": null,
   "id": "3a9916c3-b599-4df5-bfbb-1a77b67aa746",
   "metadata": {},
   "outputs": [],
   "source": []
  }
 ],
 "metadata": {
  "kernelspec": {
   "display_name": "Python 3 (ipykernel)",
   "language": "python",
   "name": "python3"
  },
  "language_info": {
   "codemirror_mode": {
    "name": "ipython",
    "version": 3
   },
   "file_extension": ".py",
   "mimetype": "text/x-python",
   "name": "python",
   "nbconvert_exporter": "python",
   "pygments_lexer": "ipython3",
   "version": "3.12.4"
  }
 },
 "nbformat": 4,
 "nbformat_minor": 5
}
